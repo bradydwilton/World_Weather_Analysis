{
 "metadata": {
  "language_info": {
   "codemirror_mode": {
    "name": "ipython",
    "version": 3
   },
   "file_extension": ".py",
   "mimetype": "text/x-python",
   "name": "python",
   "nbconvert_exporter": "python",
   "pygments_lexer": "ipython3",
   "version": "3.7.9-final"
  },
  "orig_nbformat": 2,
  "kernelspec": {
   "name": "pythondata",
   "display_name": "PythonData",
   "language": "python"
  }
 },
 "nbformat": 4,
 "nbformat_minor": 2,
 "cells": [
  {
   "cell_type": "code",
   "execution_count": 1,
   "metadata": {},
   "outputs": [],
   "source": [
    "import pandas as pd\n",
    "import gmaps\n",
    "import requests\n",
    "from config import g_key\n",
    "import os"
   ]
  },
  {
   "cell_type": "code",
   "execution_count": 2,
   "metadata": {},
   "outputs": [
    {
     "output_type": "execute_result",
     "data": {
      "text/plain": [
       "   Unnamed: 0             City Country                 Date      Lat  \\\n",
       "0           0           Avarua      CK  2021-01-28 20:34:53 -21.2078   \n",
       "1           1           Dikson      RU  2021-01-28 20:34:53  73.5069   \n",
       "2           2       Lavrentiya      RU  2021-01-28 20:34:53  65.5833   \n",
       "3           3          Qaanaaq      GL  2021-01-28 20:34:53  77.4840   \n",
       "4           4  Arraial Do Cabo      BR  2021-01-28 20:33:46 -22.9661   \n",
       "\n",
       "       Long  Max Temp  Humidity  Cloudiness  Wind Speed  \n",
       "0 -159.7750     84.20        70          20       14.97  \n",
       "1   80.5464    -32.22        79          65        4.54  \n",
       "2 -171.0000     -8.97        84         100       12.82  \n",
       "3  -69.3632    -12.15        67           0        9.17  \n",
       "4  -42.0278     87.80        57           0       20.71  "
      ],
      "text/html": "<div>\n<style scoped>\n    .dataframe tbody tr th:only-of-type {\n        vertical-align: middle;\n    }\n\n    .dataframe tbody tr th {\n        vertical-align: top;\n    }\n\n    .dataframe thead th {\n        text-align: right;\n    }\n</style>\n<table border=\"1\" class=\"dataframe\">\n  <thead>\n    <tr style=\"text-align: right;\">\n      <th></th>\n      <th>Unnamed: 0</th>\n      <th>City</th>\n      <th>Country</th>\n      <th>Date</th>\n      <th>Lat</th>\n      <th>Long</th>\n      <th>Max Temp</th>\n      <th>Humidity</th>\n      <th>Cloudiness</th>\n      <th>Wind Speed</th>\n    </tr>\n  </thead>\n  <tbody>\n    <tr>\n      <th>0</th>\n      <td>0</td>\n      <td>Avarua</td>\n      <td>CK</td>\n      <td>2021-01-28 20:34:53</td>\n      <td>-21.2078</td>\n      <td>-159.7750</td>\n      <td>84.20</td>\n      <td>70</td>\n      <td>20</td>\n      <td>14.97</td>\n    </tr>\n    <tr>\n      <th>1</th>\n      <td>1</td>\n      <td>Dikson</td>\n      <td>RU</td>\n      <td>2021-01-28 20:34:53</td>\n      <td>73.5069</td>\n      <td>80.5464</td>\n      <td>-32.22</td>\n      <td>79</td>\n      <td>65</td>\n      <td>4.54</td>\n    </tr>\n    <tr>\n      <th>2</th>\n      <td>2</td>\n      <td>Lavrentiya</td>\n      <td>RU</td>\n      <td>2021-01-28 20:34:53</td>\n      <td>65.5833</td>\n      <td>-171.0000</td>\n      <td>-8.97</td>\n      <td>84</td>\n      <td>100</td>\n      <td>12.82</td>\n    </tr>\n    <tr>\n      <th>3</th>\n      <td>3</td>\n      <td>Qaanaaq</td>\n      <td>GL</td>\n      <td>2021-01-28 20:34:53</td>\n      <td>77.4840</td>\n      <td>-69.3632</td>\n      <td>-12.15</td>\n      <td>67</td>\n      <td>0</td>\n      <td>9.17</td>\n    </tr>\n    <tr>\n      <th>4</th>\n      <td>4</td>\n      <td>Arraial Do Cabo</td>\n      <td>BR</td>\n      <td>2021-01-28 20:33:46</td>\n      <td>-22.9661</td>\n      <td>-42.0278</td>\n      <td>87.80</td>\n      <td>57</td>\n      <td>0</td>\n      <td>20.71</td>\n    </tr>\n  </tbody>\n</table>\n</div>"
     },
     "metadata": {},
     "execution_count": 2
    }
   ],
   "source": [
    "city_data_path = os.path.join('weather_data','cities.csv')\n",
    "city_data_df = pd.read_csv(city_data_path)\n",
    "city_data_df.head()"
   ]
  },
  {
   "cell_type": "code",
   "execution_count": 3,
   "metadata": {},
   "outputs": [
    {
     "output_type": "execute_result",
     "data": {
      "text/plain": [
       "Unnamed: 0                    553\n",
       "City                       Zlobin\n",
       "Date          2021-01-28 20:36:33\n",
       "Lat                       78.2186\n",
       "Long                      179.317\n",
       "Max Temp                     95.4\n",
       "Humidity                      100\n",
       "Cloudiness                    100\n",
       "Wind Speed                  36.64\n",
       "dtype: object"
      ]
     },
     "metadata": {},
     "execution_count": 3
    }
   ],
   "source": [
    "city_data_df.max()"
   ]
  },
  {
   "cell_type": "code",
   "execution_count": 4,
   "metadata": {},
   "outputs": [],
   "source": [
    "gmaps.configure(api_key=g_key)"
   ]
  },
  {
   "cell_type": "code",
   "execution_count": 5,
   "metadata": {},
   "outputs": [
    {
     "output_type": "display_data",
     "data": {
      "text/plain": "Figure(layout=FigureLayout(height='420px'))",
      "application/vnd.jupyter.widget-view+json": {
       "version_major": 2,
       "version_minor": 0,
       "model_id": "7db7fd1a2f304ea3825e96867ff1b237"
      }
     },
     "metadata": {}
    }
   ],
   "source": [
    "# 1. Assign the locations to an array of latitude and longitude pairs\n",
    "locations = city_data_df[['Lat','Long']]\n",
    "\n",
    "# 2. Assign Weights variable to some values\n",
    "max_temp = city_data_df['Max Temp']\n",
    "temps = []\n",
    "for temp in max_temp:\n",
    "    temps.append(max(temp, 0))\n",
    "max_temp = temps\n",
    "\n",
    "# 3. Assign the figure variable to the gmaps.figure() attribute\n",
    "fig = gmaps.figure()\n",
    "\n",
    "# 4. Assign the headmap_layer variable to the heatmap_layer attribute and add in the locations\n",
    "heat_layer = gmaps.heatmap_layer(locations, weights=max_temp)\n",
    "\n",
    "# 5. Add the headtmap layer\n",
    "fig.add_layer(heat_layer)\n",
    "\n",
    "# 6. Call the figure to plot the data\n",
    "fig"
   ]
  },
  {
   "cell_type": "code",
   "execution_count": 6,
   "metadata": {},
   "outputs": [
    {
     "output_type": "display_data",
     "data": {
      "text/plain": "Figure(layout=FigureLayout(height='420px'))",
      "application/vnd.jupyter.widget-view+json": {
       "version_major": 2,
       "version_minor": 0,
       "model_id": "3a32666254fc4d68988919ec4af4cc9e"
      }
     },
     "metadata": {}
    }
   ],
   "source": [
    "locations = city_data_df[['Lat','Long']]\n",
    "\n",
    "max_temp = city_data_df['Max Temp']\n",
    "temps = []\n",
    "for temp in max_temp:\n",
    "    temps.append(max(temp, 0))\n",
    "max_temp = temps\n",
    "\n",
    "fig = gmaps.figure(center = (30,31), zoom_level=1.5)\n",
    "\n",
    "heat_layer = gmaps.heatmap_layer(locations, weights=max_temp, dissipating=False, max_intensity=300, point_radius=4)\n",
    "\n",
    "fig.add_layer(heat_layer)\n",
    "fig"
   ]
  },
  {
   "cell_type": "code",
   "execution_count": 7,
   "metadata": {},
   "outputs": [
    {
     "output_type": "display_data",
     "data": {
      "text/plain": "Figure(layout=FigureLayout(height='420px'))",
      "application/vnd.jupyter.widget-view+json": {
       "version_major": 2,
       "version_minor": 0,
       "model_id": "7fd542c22ffe4993be5008144d7466c5"
      }
     },
     "metadata": {}
    }
   ],
   "source": [
    "locations = city_data_df[['Lat','Long']]\n",
    "humidity = city_data_df['Humidity']\n",
    "fig = gmaps.figure(center=(30,31),zoom_level=1.5)\n",
    "heat_layer = gmaps.heatmap_layer(locations, weights=humidity, dissipating=False, max_intensity=300, point_radius=4)\n",
    "fig.add_layer(heat_layer)\n",
    "fig"
   ]
  },
  {
   "cell_type": "code",
   "execution_count": 8,
   "metadata": {},
   "outputs": [
    {
     "output_type": "display_data",
     "data": {
      "text/plain": "Figure(layout=FigureLayout(height='420px'))",
      "application/vnd.jupyter.widget-view+json": {
       "version_major": 2,
       "version_minor": 0,
       "model_id": "fc90faf56c0b49f7b0c4588cd6e9cfc6"
      }
     },
     "metadata": {}
    }
   ],
   "source": [
    "locations = city_data_df[['Lat','Long']]\n",
    "cloudiness = city_data_df['Cloudiness']\n",
    "fig = gmaps.figure(center=(30,31),zoom_level=1.5)\n",
    "heat_layer = gmaps.heatmap_layer(locations, weights=cloudiness, dissipating=False, max_intensity=300, point_radius=4)\n",
    "fig.add_layer(heat_layer)\n",
    "fig"
   ]
  },
  {
   "cell_type": "code",
   "execution_count": 9,
   "metadata": {},
   "outputs": [
    {
     "output_type": "display_data",
     "data": {
      "text/plain": "Figure(layout=FigureLayout(height='420px'))",
      "application/vnd.jupyter.widget-view+json": {
       "version_major": 2,
       "version_minor": 0,
       "model_id": "cd42d58ba2fc43aaa2f079eeaa536727"
      }
     },
     "metadata": {}
    }
   ],
   "source": [
    "locations = city_data_df[['Lat','Long']]\n",
    "wind = city_data_df['Wind Speed']\n",
    "fig = gmaps.figure(center=(30,31),zoom_level=1.5)\n",
    "heat_layer = gmaps.heatmap_layer(locations, weights=wind, dissipating=False, max_intensity=100, point_radius=4)\n",
    "fig.add_layer(heat_layer)\n",
    "fig"
   ]
  },
  {
   "cell_type": "code",
   "execution_count": 10,
   "metadata": {},
   "outputs": [],
   "source": [
    "min_temp = float(input('What is the minimum temperature you would like for your trip? '))\n",
    "max_temp = float(input('What is the maximum temperature you would like for your trip? '))"
   ]
  },
  {
   "cell_type": "code",
   "execution_count": 11,
   "metadata": {},
   "outputs": [
    {
     "output_type": "execute_result",
     "data": {
      "text/plain": [
       "    Unnamed: 0         City Country                 Date      Lat      Long  \\\n",
       "17          17        Asyut      EG  2021-01-28 20:34:56  27.1810   31.1837   \n",
       "24          24  New Norfolk      AU  2021-01-28 20:34:57 -42.7826  147.0587   \n",
       "26          26    Esperance      AU  2021-01-28 20:33:46 -33.8667  121.9000   \n",
       "45          45   Launceston      AU  2021-01-28 20:31:14 -41.4500  147.1667   \n",
       "53          53     Hermanus      ZA  2021-01-28 20:33:52 -34.4187   19.2345   \n",
       "\n",
       "    Max Temp  Humidity  Cloudiness  Wind Speed  \n",
       "17     50.00        66           0        6.91  \n",
       "24     59.00        58          94        4.00  \n",
       "26     57.20        88           6        4.61  \n",
       "45     57.99        71          90        8.05  \n",
       "53     59.00        86          22        5.66  "
      ],
      "text/html": "<div>\n<style scoped>\n    .dataframe tbody tr th:only-of-type {\n        vertical-align: middle;\n    }\n\n    .dataframe tbody tr th {\n        vertical-align: top;\n    }\n\n    .dataframe thead th {\n        text-align: right;\n    }\n</style>\n<table border=\"1\" class=\"dataframe\">\n  <thead>\n    <tr style=\"text-align: right;\">\n      <th></th>\n      <th>Unnamed: 0</th>\n      <th>City</th>\n      <th>Country</th>\n      <th>Date</th>\n      <th>Lat</th>\n      <th>Long</th>\n      <th>Max Temp</th>\n      <th>Humidity</th>\n      <th>Cloudiness</th>\n      <th>Wind Speed</th>\n    </tr>\n  </thead>\n  <tbody>\n    <tr>\n      <th>17</th>\n      <td>17</td>\n      <td>Asyut</td>\n      <td>EG</td>\n      <td>2021-01-28 20:34:56</td>\n      <td>27.1810</td>\n      <td>31.1837</td>\n      <td>50.00</td>\n      <td>66</td>\n      <td>0</td>\n      <td>6.91</td>\n    </tr>\n    <tr>\n      <th>24</th>\n      <td>24</td>\n      <td>New Norfolk</td>\n      <td>AU</td>\n      <td>2021-01-28 20:34:57</td>\n      <td>-42.7826</td>\n      <td>147.0587</td>\n      <td>59.00</td>\n      <td>58</td>\n      <td>94</td>\n      <td>4.00</td>\n    </tr>\n    <tr>\n      <th>26</th>\n      <td>26</td>\n      <td>Esperance</td>\n      <td>AU</td>\n      <td>2021-01-28 20:33:46</td>\n      <td>-33.8667</td>\n      <td>121.9000</td>\n      <td>57.20</td>\n      <td>88</td>\n      <td>6</td>\n      <td>4.61</td>\n    </tr>\n    <tr>\n      <th>45</th>\n      <td>45</td>\n      <td>Launceston</td>\n      <td>AU</td>\n      <td>2021-01-28 20:31:14</td>\n      <td>-41.4500</td>\n      <td>147.1667</td>\n      <td>57.99</td>\n      <td>71</td>\n      <td>90</td>\n      <td>8.05</td>\n    </tr>\n    <tr>\n      <th>53</th>\n      <td>53</td>\n      <td>Hermanus</td>\n      <td>ZA</td>\n      <td>2021-01-28 20:33:52</td>\n      <td>-34.4187</td>\n      <td>19.2345</td>\n      <td>59.00</td>\n      <td>86</td>\n      <td>22</td>\n      <td>5.66</td>\n    </tr>\n  </tbody>\n</table>\n</div>"
     },
     "metadata": {},
     "execution_count": 11
    }
   ],
   "source": [
    "preferred_cities_df = city_data_df.loc[(city_data_df['Max Temp'] >= min_temp) & (city_data_df['Max Temp'] <= max_temp)]\n",
    "preferred_cities_df.head()"
   ]
  },
  {
   "cell_type": "code",
   "execution_count": 12,
   "metadata": {},
   "outputs": [
    {
     "output_type": "execute_result",
     "data": {
      "text/plain": [
       "Unnamed: 0    62\n",
       "City          62\n",
       "Country       62\n",
       "Date          62\n",
       "Lat           62\n",
       "Long          62\n",
       "Max Temp      62\n",
       "Humidity      62\n",
       "Cloudiness    62\n",
       "Wind Speed    62\n",
       "dtype: int64"
      ]
     },
     "metadata": {},
     "execution_count": 12
    }
   ],
   "source": [
    "preferred_cities_df.count()"
   ]
  },
  {
   "cell_type": "code",
   "execution_count": 13,
   "metadata": {},
   "outputs": [
    {
     "output_type": "execute_result",
     "data": {
      "text/plain": [
       "Unnamed: 0    0\n",
       "City          0\n",
       "Country       0\n",
       "Date          0\n",
       "Lat           0\n",
       "Long          0\n",
       "Max Temp      0\n",
       "Humidity      0\n",
       "Cloudiness    0\n",
       "Wind Speed    0\n",
       "dtype: int64"
      ]
     },
     "metadata": {},
     "execution_count": 13
    }
   ],
   "source": [
    "preferred_cities_df.isnull().sum()"
   ]
  },
  {
   "cell_type": "code",
   "execution_count": 14,
   "metadata": {},
   "outputs": [
    {
     "output_type": "execute_result",
     "data": {
      "text/plain": [
       "Empty DataFrame\n",
       "Columns: [Unnamed: 0, City, Country, Date, Lat, Long, Max Temp, Humidity, Cloudiness, Wind Speed]\n",
       "Index: []"
      ],
      "text/html": "<div>\n<style scoped>\n    .dataframe tbody tr th:only-of-type {\n        vertical-align: middle;\n    }\n\n    .dataframe tbody tr th {\n        vertical-align: top;\n    }\n\n    .dataframe thead th {\n        text-align: right;\n    }\n</style>\n<table border=\"1\" class=\"dataframe\">\n  <thead>\n    <tr style=\"text-align: right;\">\n      <th></th>\n      <th>Unnamed: 0</th>\n      <th>City</th>\n      <th>Country</th>\n      <th>Date</th>\n      <th>Lat</th>\n      <th>Long</th>\n      <th>Max Temp</th>\n      <th>Humidity</th>\n      <th>Cloudiness</th>\n      <th>Wind Speed</th>\n    </tr>\n  </thead>\n  <tbody>\n  </tbody>\n</table>\n</div>"
     },
     "metadata": {},
     "execution_count": 14
    }
   ],
   "source": [
    "preferred_cities_df.loc[preferred_cities_df['Country'] == '']"
   ]
  },
  {
   "cell_type": "code",
   "execution_count": 15,
   "metadata": {},
   "outputs": [
    {
     "output_type": "execute_result",
     "data": {
      "text/plain": [
       "Empty DataFrame\n",
       "Columns: [Unnamed: 0, City, Country, Date, Lat, Long, Max Temp, Humidity, Cloudiness, Wind Speed]\n",
       "Index: []"
      ],
      "text/html": "<div>\n<style scoped>\n    .dataframe tbody tr th:only-of-type {\n        vertical-align: middle;\n    }\n\n    .dataframe tbody tr th {\n        vertical-align: top;\n    }\n\n    .dataframe thead th {\n        text-align: right;\n    }\n</style>\n<table border=\"1\" class=\"dataframe\">\n  <thead>\n    <tr style=\"text-align: right;\">\n      <th></th>\n      <th>Unnamed: 0</th>\n      <th>City</th>\n      <th>Country</th>\n      <th>Date</th>\n      <th>Lat</th>\n      <th>Long</th>\n      <th>Max Temp</th>\n      <th>Humidity</th>\n      <th>Cloudiness</th>\n      <th>Wind Speed</th>\n    </tr>\n  </thead>\n  <tbody>\n  </tbody>\n</table>\n</div>"
     },
     "metadata": {},
     "execution_count": 15
    }
   ],
   "source": [
    "preferred_cities_df[preferred_cities_df['Country'] == 0]"
   ]
  },
  {
   "cell_type": "code",
   "execution_count": 16,
   "metadata": {},
   "outputs": [
    {
     "output_type": "execute_result",
     "data": {
      "text/plain": [
       "    Unnamed: 0         City Country                 Date      Lat      Long  \\\n",
       "17          17        Asyut      EG  2021-01-28 20:34:56  27.1810   31.1837   \n",
       "24          24  New Norfolk      AU  2021-01-28 20:34:57 -42.7826  147.0587   \n",
       "26          26    Esperance      AU  2021-01-28 20:33:46 -33.8667  121.9000   \n",
       "45          45   Launceston      AU  2021-01-28 20:31:14 -41.4500  147.1667   \n",
       "53          53     Hermanus      ZA  2021-01-28 20:33:52 -34.4187   19.2345   \n",
       "\n",
       "    Max Temp  Humidity  Cloudiness  Wind Speed  \n",
       "17     50.00        66           0        6.91  \n",
       "24     59.00        58          94        4.00  \n",
       "26     57.20        88           6        4.61  \n",
       "45     57.99        71          90        8.05  \n",
       "53     59.00        86          22        5.66  "
      ],
      "text/html": "<div>\n<style scoped>\n    .dataframe tbody tr th:only-of-type {\n        vertical-align: middle;\n    }\n\n    .dataframe tbody tr th {\n        vertical-align: top;\n    }\n\n    .dataframe thead th {\n        text-align: right;\n    }\n</style>\n<table border=\"1\" class=\"dataframe\">\n  <thead>\n    <tr style=\"text-align: right;\">\n      <th></th>\n      <th>Unnamed: 0</th>\n      <th>City</th>\n      <th>Country</th>\n      <th>Date</th>\n      <th>Lat</th>\n      <th>Long</th>\n      <th>Max Temp</th>\n      <th>Humidity</th>\n      <th>Cloudiness</th>\n      <th>Wind Speed</th>\n    </tr>\n  </thead>\n  <tbody>\n    <tr>\n      <th>17</th>\n      <td>17</td>\n      <td>Asyut</td>\n      <td>EG</td>\n      <td>2021-01-28 20:34:56</td>\n      <td>27.1810</td>\n      <td>31.1837</td>\n      <td>50.00</td>\n      <td>66</td>\n      <td>0</td>\n      <td>6.91</td>\n    </tr>\n    <tr>\n      <th>24</th>\n      <td>24</td>\n      <td>New Norfolk</td>\n      <td>AU</td>\n      <td>2021-01-28 20:34:57</td>\n      <td>-42.7826</td>\n      <td>147.0587</td>\n      <td>59.00</td>\n      <td>58</td>\n      <td>94</td>\n      <td>4.00</td>\n    </tr>\n    <tr>\n      <th>26</th>\n      <td>26</td>\n      <td>Esperance</td>\n      <td>AU</td>\n      <td>2021-01-28 20:33:46</td>\n      <td>-33.8667</td>\n      <td>121.9000</td>\n      <td>57.20</td>\n      <td>88</td>\n      <td>6</td>\n      <td>4.61</td>\n    </tr>\n    <tr>\n      <th>45</th>\n      <td>45</td>\n      <td>Launceston</td>\n      <td>AU</td>\n      <td>2021-01-28 20:31:14</td>\n      <td>-41.4500</td>\n      <td>147.1667</td>\n      <td>57.99</td>\n      <td>71</td>\n      <td>90</td>\n      <td>8.05</td>\n    </tr>\n    <tr>\n      <th>53</th>\n      <td>53</td>\n      <td>Hermanus</td>\n      <td>ZA</td>\n      <td>2021-01-28 20:33:52</td>\n      <td>-34.4187</td>\n      <td>19.2345</td>\n      <td>59.00</td>\n      <td>86</td>\n      <td>22</td>\n      <td>5.66</td>\n    </tr>\n  </tbody>\n</table>\n</div>"
     },
     "metadata": {},
     "execution_count": 16
    }
   ],
   "source": [
    "preferred_cities_df.head()"
   ]
  },
  {
   "cell_type": "code",
   "execution_count": 17,
   "metadata": {},
   "outputs": [],
   "source": [
    "preferred_cities_df = preferred_cities_df.dropna()"
   ]
  },
  {
   "cell_type": "code",
   "execution_count": 18,
   "metadata": {},
   "outputs": [
    {
     "output_type": "execute_result",
     "data": {
      "text/plain": [
       "    Unnamed: 0         City Country                 Date      Lat      Long  \\\n",
       "17          17        Asyut      EG  2021-01-28 20:34:56  27.1810   31.1837   \n",
       "24          24  New Norfolk      AU  2021-01-28 20:34:57 -42.7826  147.0587   \n",
       "26          26    Esperance      AU  2021-01-28 20:33:46 -33.8667  121.9000   \n",
       "45          45   Launceston      AU  2021-01-28 20:31:14 -41.4500  147.1667   \n",
       "53          53     Hermanus      ZA  2021-01-28 20:33:52 -34.4187   19.2345   \n",
       "\n",
       "    Max Temp  Humidity  Cloudiness  Wind Speed  \n",
       "17     50.00        66           0        6.91  \n",
       "24     59.00        58          94        4.00  \n",
       "26     57.20        88           6        4.61  \n",
       "45     57.99        71          90        8.05  \n",
       "53     59.00        86          22        5.66  "
      ],
      "text/html": "<div>\n<style scoped>\n    .dataframe tbody tr th:only-of-type {\n        vertical-align: middle;\n    }\n\n    .dataframe tbody tr th {\n        vertical-align: top;\n    }\n\n    .dataframe thead th {\n        text-align: right;\n    }\n</style>\n<table border=\"1\" class=\"dataframe\">\n  <thead>\n    <tr style=\"text-align: right;\">\n      <th></th>\n      <th>Unnamed: 0</th>\n      <th>City</th>\n      <th>Country</th>\n      <th>Date</th>\n      <th>Lat</th>\n      <th>Long</th>\n      <th>Max Temp</th>\n      <th>Humidity</th>\n      <th>Cloudiness</th>\n      <th>Wind Speed</th>\n    </tr>\n  </thead>\n  <tbody>\n    <tr>\n      <th>17</th>\n      <td>17</td>\n      <td>Asyut</td>\n      <td>EG</td>\n      <td>2021-01-28 20:34:56</td>\n      <td>27.1810</td>\n      <td>31.1837</td>\n      <td>50.00</td>\n      <td>66</td>\n      <td>0</td>\n      <td>6.91</td>\n    </tr>\n    <tr>\n      <th>24</th>\n      <td>24</td>\n      <td>New Norfolk</td>\n      <td>AU</td>\n      <td>2021-01-28 20:34:57</td>\n      <td>-42.7826</td>\n      <td>147.0587</td>\n      <td>59.00</td>\n      <td>58</td>\n      <td>94</td>\n      <td>4.00</td>\n    </tr>\n    <tr>\n      <th>26</th>\n      <td>26</td>\n      <td>Esperance</td>\n      <td>AU</td>\n      <td>2021-01-28 20:33:46</td>\n      <td>-33.8667</td>\n      <td>121.9000</td>\n      <td>57.20</td>\n      <td>88</td>\n      <td>6</td>\n      <td>4.61</td>\n    </tr>\n    <tr>\n      <th>45</th>\n      <td>45</td>\n      <td>Launceston</td>\n      <td>AU</td>\n      <td>2021-01-28 20:31:14</td>\n      <td>-41.4500</td>\n      <td>147.1667</td>\n      <td>57.99</td>\n      <td>71</td>\n      <td>90</td>\n      <td>8.05</td>\n    </tr>\n    <tr>\n      <th>53</th>\n      <td>53</td>\n      <td>Hermanus</td>\n      <td>ZA</td>\n      <td>2021-01-28 20:33:52</td>\n      <td>-34.4187</td>\n      <td>19.2345</td>\n      <td>59.00</td>\n      <td>86</td>\n      <td>22</td>\n      <td>5.66</td>\n    </tr>\n  </tbody>\n</table>\n</div>"
     },
     "metadata": {},
     "execution_count": 18
    }
   ],
   "source": [
    "preferred_cities_df.head()"
   ]
  },
  {
   "cell_type": "code",
   "execution_count": 19,
   "metadata": {},
   "outputs": [
    {
     "output_type": "execute_result",
     "data": {
      "text/plain": [
       "           City Country  Max Temp      Lat      Long Hotel Name\n",
       "17        Asyut      EG     50.00  27.1810   31.1837           \n",
       "24  New Norfolk      AU     59.00 -42.7826  147.0587           \n",
       "26    Esperance      AU     57.20 -33.8667  121.9000           \n",
       "45   Launceston      AU     57.99 -41.4500  147.1667           \n",
       "53     Hermanus      ZA     59.00 -34.4187   19.2345           "
      ],
      "text/html": "<div>\n<style scoped>\n    .dataframe tbody tr th:only-of-type {\n        vertical-align: middle;\n    }\n\n    .dataframe tbody tr th {\n        vertical-align: top;\n    }\n\n    .dataframe thead th {\n        text-align: right;\n    }\n</style>\n<table border=\"1\" class=\"dataframe\">\n  <thead>\n    <tr style=\"text-align: right;\">\n      <th></th>\n      <th>City</th>\n      <th>Country</th>\n      <th>Max Temp</th>\n      <th>Lat</th>\n      <th>Long</th>\n      <th>Hotel Name</th>\n    </tr>\n  </thead>\n  <tbody>\n    <tr>\n      <th>17</th>\n      <td>Asyut</td>\n      <td>EG</td>\n      <td>50.00</td>\n      <td>27.1810</td>\n      <td>31.1837</td>\n      <td></td>\n    </tr>\n    <tr>\n      <th>24</th>\n      <td>New Norfolk</td>\n      <td>AU</td>\n      <td>59.00</td>\n      <td>-42.7826</td>\n      <td>147.0587</td>\n      <td></td>\n    </tr>\n    <tr>\n      <th>26</th>\n      <td>Esperance</td>\n      <td>AU</td>\n      <td>57.20</td>\n      <td>-33.8667</td>\n      <td>121.9000</td>\n      <td></td>\n    </tr>\n    <tr>\n      <th>45</th>\n      <td>Launceston</td>\n      <td>AU</td>\n      <td>57.99</td>\n      <td>-41.4500</td>\n      <td>147.1667</td>\n      <td></td>\n    </tr>\n    <tr>\n      <th>53</th>\n      <td>Hermanus</td>\n      <td>ZA</td>\n      <td>59.00</td>\n      <td>-34.4187</td>\n      <td>19.2345</td>\n      <td></td>\n    </tr>\n  </tbody>\n</table>\n</div>"
     },
     "metadata": {},
     "execution_count": 19
    }
   ],
   "source": [
    "# hotels_df = preferred_cities_df.copy()\n",
    "hotels_df = preferred_cities_df[['City','Country','Max Temp','Lat','Long']].copy()\n",
    "hotels_df['Hotel Name'] = ''\n",
    "hotels_df.head()"
   ]
  },
  {
   "cell_type": "code",
   "execution_count": 20,
   "metadata": {},
   "outputs": [],
   "source": [
    "params = {\n",
    "    'radius':5000,\n",
    "    'type': 'lodging',\n",
    "    'key':g_key}"
   ]
  },
  {
   "cell_type": "code",
   "execution_count": 21,
   "metadata": {},
   "outputs": [],
   "source": [
    "for index, row in hotels_df.iterrows():\n",
    "    lat = row['Lat']\n",
    "    long = row['Long']\n",
    "    params['location'] = f\"{lat},{long}\"\n",
    "    base_url = 'https://maps.googleapis.com/maps/api/place/nearbysearch/json'\n",
    "    hotels = requests.get(base_url, params=params).json()\n",
    "\n",
    "    try:\n",
    "        hotels_df.loc[index, \"Hotel Name\"] = hotels[\"results\"][0][\"name\"]\n",
    "    except IndexError as ie:\n",
    "        hotels_df.loc[index, \"Hotel Name\"] = None"
   ]
  },
  {
   "cell_type": "code",
   "execution_count": 22,
   "metadata": {},
   "outputs": [],
   "source": [
    "hotels_df = hotels_df.dropna()"
   ]
  },
  {
   "cell_type": "code",
   "execution_count": 23,
   "metadata": {},
   "outputs": [],
   "source": [
    "info_box_template = \"\"\"\n",
    "<dl>\n",
    "<dt><b>Hotel Name</b></dt>\n",
    "<dd>{Hotel Name}</dd>\n",
    "<dt><b>City</b></dt><dd>{City}</dd>\n",
    "<dt><b>Country</b></dt><dd>{Country}</dd>\n",
    "<dt><b>Max Temp</b></dt><dd>{Max Temp} F</dd>\n",
    "</dl>\n",
    "\"\"\""
   ]
  },
  {
   "cell_type": "code",
   "execution_count": 24,
   "metadata": {},
   "outputs": [],
   "source": [
    "hotels_info = [info_box_template.format(**row) for index, row in hotels_df.iterrows()]"
   ]
  },
  {
   "cell_type": "code",
   "execution_count": 25,
   "metadata": {},
   "outputs": [
    {
     "output_type": "display_data",
     "data": {
      "text/plain": "Figure(layout=FigureLayout(height='420px'))",
      "application/vnd.jupyter.widget-view+json": {
       "version_major": 2,
       "version_minor": 0,
       "model_id": "6bf3b6c2352d47369a4f51905ab2b452"
      }
     },
     "metadata": {}
    }
   ],
   "source": [
    "locations = hotels_df[['Lat','Long']]\n",
    "max_temps = hotels_df['Max Temp']\n",
    "fig = gmaps.figure(center=(30,31),zoom_level=1.5)\n",
    "heat_layer = gmaps.heatmap_layer(locations, weights=max_temps, dissipating=False, max_intensity=300, point_radius=4)\n",
    "marker_layer = gmaps.marker_layer(locations, info_box_content=hotels_info)\n",
    "fig.add_layer(heat_layer)\n",
    "fig.add_layer(marker_layer)\n",
    "fig"
   ]
  },
  {
   "cell_type": "code",
   "execution_count": null,
   "metadata": {},
   "outputs": [],
   "source": []
  }
 ]
}