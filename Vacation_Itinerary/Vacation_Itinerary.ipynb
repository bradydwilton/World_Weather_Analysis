{
 "cells": [
  {
   "cell_type": "markdown",
   "metadata": {},
   "source": [
    "## Deliverable 3. Create a Travel Itinerary Map."
   ]
  },
  {
   "cell_type": "code",
   "execution_count": 1,
   "metadata": {},
   "outputs": [],
   "source": [
    "# Dependencies and Setup\n",
    "import pandas as pd\n",
    "import requests\n",
    "import gmaps\n",
    "import os\n",
    "\n",
    "# Import API key\n",
    "from config import g_key\n",
    "\n",
    "# Configure gmaps\n",
    "gmaps.configure(api_key=g_key)"
   ]
  },
  {
   "cell_type": "code",
   "execution_count": 2,
   "metadata": {},
   "outputs": [
    {
     "output_type": "execute_result",
     "data": {
      "text/plain": [
       "   City_ID                   City Country  Max Temp   Current Weather  \\\n",
       "0        0  Los Llanos De Aridane      ES      66.2     broken clouds   \n",
       "1        1                Ushuaia      AR      51.8        few clouds   \n",
       "2        2                  Marin      US      50.0   overcast clouds   \n",
       "3        4                Mataura      NZ      48.0  scattered clouds   \n",
       "4        7          Mar Del Plata      AR      64.4   overcast clouds   \n",
       "\n",
       "       Lat      Long                Hotel Name  \n",
       "0  28.6585  -17.9182             Valle Aridane  \n",
       "1 -54.8000  -68.3000            Albatros Hotel  \n",
       "2  38.0666 -122.7344            Danehill Manor  \n",
       "3 -46.1927  168.8643             Ellie's Villa  \n",
       "4 -38.0023  -57.5575  Gran Hotel Mar del Plata  "
      ],
      "text/html": "<div>\n<style scoped>\n    .dataframe tbody tr th:only-of-type {\n        vertical-align: middle;\n    }\n\n    .dataframe tbody tr th {\n        vertical-align: top;\n    }\n\n    .dataframe thead th {\n        text-align: right;\n    }\n</style>\n<table border=\"1\" class=\"dataframe\">\n  <thead>\n    <tr style=\"text-align: right;\">\n      <th></th>\n      <th>City_ID</th>\n      <th>City</th>\n      <th>Country</th>\n      <th>Max Temp</th>\n      <th>Current Weather</th>\n      <th>Lat</th>\n      <th>Long</th>\n      <th>Hotel Name</th>\n    </tr>\n  </thead>\n  <tbody>\n    <tr>\n      <th>0</th>\n      <td>0</td>\n      <td>Los Llanos De Aridane</td>\n      <td>ES</td>\n      <td>66.2</td>\n      <td>broken clouds</td>\n      <td>28.6585</td>\n      <td>-17.9182</td>\n      <td>Valle Aridane</td>\n    </tr>\n    <tr>\n      <th>1</th>\n      <td>1</td>\n      <td>Ushuaia</td>\n      <td>AR</td>\n      <td>51.8</td>\n      <td>few clouds</td>\n      <td>-54.8000</td>\n      <td>-68.3000</td>\n      <td>Albatros Hotel</td>\n    </tr>\n    <tr>\n      <th>2</th>\n      <td>2</td>\n      <td>Marin</td>\n      <td>US</td>\n      <td>50.0</td>\n      <td>overcast clouds</td>\n      <td>38.0666</td>\n      <td>-122.7344</td>\n      <td>Danehill Manor</td>\n    </tr>\n    <tr>\n      <th>3</th>\n      <td>4</td>\n      <td>Mataura</td>\n      <td>NZ</td>\n      <td>48.0</td>\n      <td>scattered clouds</td>\n      <td>-46.1927</td>\n      <td>168.8643</td>\n      <td>Ellie's Villa</td>\n    </tr>\n    <tr>\n      <th>4</th>\n      <td>7</td>\n      <td>Mar Del Plata</td>\n      <td>AR</td>\n      <td>64.4</td>\n      <td>overcast clouds</td>\n      <td>-38.0023</td>\n      <td>-57.5575</td>\n      <td>Gran Hotel Mar del Plata</td>\n    </tr>\n  </tbody>\n</table>\n</div>"
     },
     "metadata": {},
     "execution_count": 2
    }
   ],
   "source": [
    "# 1. Read the WeatherPy_vacation.csv into a DataFrame.\n",
    "database_path = os.path.join('..','Vacation_Search','WeatherPy_vacation.csv')\n",
    "vacation_df = pd.read_csv(database_path)\n",
    "vacation_df.head()"
   ]
  },
  {
   "cell_type": "code",
   "execution_count": 3,
   "metadata": {},
   "outputs": [],
   "source": [
    "# 2. Using the template add the city name, the country code, the weather description and maximum temperature for the city.\n",
    "info_box_template = \"\"\"\n",
    "<dl>\n",
    "<dt><b>Hotel Name</b></dt><dd>{Hotel Name}</dd>\n",
    "<dt><b>City</b></dt><dd>{City}</dd>\n",
    "<dt><b>Country</b></dt><dd>{Country}</dd>\n",
    "<dt><b>Current Weather</b></dt><dd>{Current Weather}</dd>\n",
    "<dt><b>Max Temp</b></dt><dd>{Max Temp} F</dd>\n",
    "</dl>\n",
    "\"\"\"\n",
    "\n",
    "# 3a. Get the data from each row and add it to the formatting template and store the data in a list.\n",
    "clean_hotel_df = vacation_df.dropna()\n",
    "\n",
    "hotel_info = [info_box_template.format(**row) for index, row in clean_hotel_df.iterrows()]\n",
    "\n",
    "# 3b. Get the latitude and longitude from each row and store in a new DataFrame.\n",
    "locations = clean_hotel_df[[\"Lat\", \"Long\"]]"
   ]
  },
  {
   "cell_type": "code",
   "execution_count": 4,
   "metadata": {},
   "outputs": [
    {
     "output_type": "display_data",
     "data": {
      "text/plain": "Figure(layout=FigureLayout(height='420px'))",
      "application/vnd.jupyter.widget-view+json": {
       "version_major": 2,
       "version_minor": 0,
       "model_id": "522368b4bab04dd88d9e305c5d0bb850"
      }
     },
     "metadata": {}
    }
   ],
   "source": [
    "# 4a. Add a marker layer for each city to the map.\n",
    "marker_layer = gmaps.marker_layer(locations, info_box_content=hotel_info)\n",
    "# 4b. Display the figure\n",
    "fig = gmaps.figure(center=(30,31),zoom_level=1.5)\n",
    "fig.add_layer(marker_layer)\n",
    "fig\n"
   ]
  },
  {
   "cell_type": "code",
   "execution_count": 34,
   "metadata": {},
   "outputs": [],
   "source": [
    "# From the map above pick 4 cities and create a vacation itinerary route to travel between the four cities. \n",
    "# 5. Create DataFrames for each city by filtering the 'vacation_df' using the loc method. \n",
    "# Hint: The starting and ending city should be the same city.\n",
    "\n",
    "vacation_start = vacation_df.loc[vacation_df['City'] == 'Lianran']\n",
    "vacation_end = vacation_df.loc[vacation_df['City'] == 'Lianran']\n",
    "vacation_stop1 = vacation_df.loc[vacation_df['City'] == 'Hami']\n",
    "vacation_stop2 = vacation_df.loc[vacation_df['City'] == 'Heishan'] \n",
    "vacation_stop3 = vacation_df.loc[vacation_df['City'] == 'Jiazi'] "
   ]
  },
  {
   "cell_type": "code",
   "execution_count": 35,
   "metadata": {},
   "outputs": [],
   "source": [
    "# 6. Get the latitude-longitude pairs as tuples from each city DataFrame using the to_numpy function and list indexing.\n",
    "start = vacation_start.to_numpy()[0][5:7]\n",
    "end = vacation_end.to_numpy()[0][5:7]\n",
    "stop1 = vacation_stop1.to_numpy()[0][5:7]\n",
    "stop2 = vacation_stop2.to_numpy()[0][5:7]\n",
    "stop3 = vacation_stop3.to_numpy()[0][5:7]"
   ]
  },
  {
   "cell_type": "code",
   "execution_count": 42,
   "metadata": {
    "scrolled": true
   },
   "outputs": [
    {
     "output_type": "display_data",
     "data": {
      "text/plain": "Figure(layout=FigureLayout(border='1px solid black', height='800px', padding='1px', width='800px'))",
      "application/vnd.jupyter.widget-view+json": {
       "version_major": 2,
       "version_minor": 0,
       "model_id": "35087e0c0ac940238493111b4bcce013"
      }
     },
     "metadata": {}
    }
   ],
   "source": [
    "# 7. Create a direction layer map using the start and end latitude-longitude pairs,\n",
    "# and stop1, stop2, and stop3 as the waypoints. The travel_mode should be \"DRIVING\", \"BICYCLING\", or \"WALKING\".\n",
    "direction_layer = gmaps.directions_layer(start, end, waypoints=[stop1, stop2, stop3], travel_mode='DRIVING')\n",
    "\n",
    "figure_layout = {\n",
    "    'width':'800px',\n",
    "    'height':'800px',\n",
    "    'border':'1px solid black',\n",
    "    'padding':'1px'\n",
    "}\n",
    "\n",
    "fig = gmaps.figure(center=(25,110),zoom_level=5,layout=figure_layout)\n",
    "# fig.add_layer(direction_layer)\n",
    "fig.add_layer(direction_layer)\n",
    "fig\n"
   ]
  },
  {
   "cell_type": "code",
   "execution_count": 44,
   "metadata": {},
   "outputs": [
    {
     "output_type": "execute_result",
     "data": {
      "text/plain": [
       "   City_ID     City Country  Max Temp  Current Weather      Lat      Long  \\\n",
       "0      188  Lianran      CN     50.00        clear sky  24.9227  102.4850   \n",
       "1      431     Hami      CN     22.19        clear sky  42.8000   93.4500   \n",
       "2      463  Heishan      CN      9.19  overcast clouds  41.6892  122.1128   \n",
       "3      309    Jiazi      CN     56.01        clear sky  22.8779  116.0670   \n",
       "\n",
       "         Hotel Name  \n",
       "0  Jinzhouwan Hotel  \n",
       "1  Laoyutang Resort  \n",
       "2     Heishan Hotel  \n",
       "3     Hotel Jin Hao  "
      ],
      "text/html": "<div>\n<style scoped>\n    .dataframe tbody tr th:only-of-type {\n        vertical-align: middle;\n    }\n\n    .dataframe tbody tr th {\n        vertical-align: top;\n    }\n\n    .dataframe thead th {\n        text-align: right;\n    }\n</style>\n<table border=\"1\" class=\"dataframe\">\n  <thead>\n    <tr style=\"text-align: right;\">\n      <th></th>\n      <th>City_ID</th>\n      <th>City</th>\n      <th>Country</th>\n      <th>Max Temp</th>\n      <th>Current Weather</th>\n      <th>Lat</th>\n      <th>Long</th>\n      <th>Hotel Name</th>\n    </tr>\n  </thead>\n  <tbody>\n    <tr>\n      <th>0</th>\n      <td>188</td>\n      <td>Lianran</td>\n      <td>CN</td>\n      <td>50.00</td>\n      <td>clear sky</td>\n      <td>24.9227</td>\n      <td>102.4850</td>\n      <td>Jinzhouwan Hotel</td>\n    </tr>\n    <tr>\n      <th>1</th>\n      <td>431</td>\n      <td>Hami</td>\n      <td>CN</td>\n      <td>22.19</td>\n      <td>clear sky</td>\n      <td>42.8000</td>\n      <td>93.4500</td>\n      <td>Laoyutang Resort</td>\n    </tr>\n    <tr>\n      <th>2</th>\n      <td>463</td>\n      <td>Heishan</td>\n      <td>CN</td>\n      <td>9.19</td>\n      <td>overcast clouds</td>\n      <td>41.6892</td>\n      <td>122.1128</td>\n      <td>Heishan Hotel</td>\n    </tr>\n    <tr>\n      <th>3</th>\n      <td>309</td>\n      <td>Jiazi</td>\n      <td>CN</td>\n      <td>56.01</td>\n      <td>clear sky</td>\n      <td>22.8779</td>\n      <td>116.0670</td>\n      <td>Hotel Jin Hao</td>\n    </tr>\n  </tbody>\n</table>\n</div>"
     },
     "metadata": {},
     "execution_count": 44
    }
   ],
   "source": [
    "# 8. To create a marker layer map between the four cities.\n",
    "#  Combine the four city DataFrames into one DataFrame using the concat() function.\n",
    "itinerary_df = pd.concat([vacation_start,vacation_stop1,vacation_stop2,vacation_stop3],ignore_index=True)\n",
    "itinerary_df"
   ]
  },
  {
   "cell_type": "code",
   "execution_count": 45,
   "metadata": {},
   "outputs": [],
   "source": [
    "# 9 Using the template add city name, the country code, the weather description and maximum temperature for the city. \n",
    "info_box_template = \"\"\"\n",
    "<dl>\n",
    "<dt><b>Hotel Name</b></dt><dd>{Hotel Name}</dd>\n",
    "<dt><b>City</b></dt><dd>{City}</dd>\n",
    "<dt><b>Country</b></dt><dd>{Country}</dd>\n",
    "<dt><b>Current Weather</b></dt><dd>{Current Weather}</dd>\n",
    "<dt><b>Max Temp</b></dt><dd>{Max Temp} F</dd>\n",
    "</dl>\n",
    "\"\"\"\n",
    "\n",
    "# 10a Get the data from each row and add it to the formatting template and store the data in a list.\n",
    "hotel_info = [info_box_template.format(**row) for index, row in itinerary_df.iterrows()]\n",
    "\n",
    "# 10b. Get the latitude and longitude from each row and store in a new DataFrame.\n",
    "locations = itinerary_df[[\"Lat\", \"Long\"]]"
   ]
  },
  {
   "cell_type": "code",
   "execution_count": 47,
   "metadata": {},
   "outputs": [
    {
     "output_type": "display_data",
     "data": {
      "text/plain": "Figure(layout=FigureLayout(border='1px solid black', height='1000px', padding='1px', width='1000px'))",
      "application/vnd.jupyter.widget-view+json": {
       "version_major": 2,
       "version_minor": 0,
       "model_id": "ef007cb3eec54a56847eb35d106cc377"
      }
     },
     "metadata": {}
    }
   ],
   "source": [
    "# 11a. Add a marker layer for each city to the map.\n",
    "marker_layer = gmaps.marker_layer(locations,info_box_content=hotel_info, )\n",
    "# 11b. Display the figure\n",
    "figure_layout = {\n",
    "    'width':'1000px',\n",
    "    'height':'1000px',\n",
    "    'border':'1px solid black',\n",
    "    'padding':'1px'\n",
    "}\n",
    "\n",
    "fig = gmaps.figure(center=(30,110),zoom_level=5,layout=figure_layout)\n",
    "# fig.add_layer(direction_layer)\n",
    "fig.add_layer(marker_layer)\n",
    "fig"
   ]
  },
  {
   "cell_type": "code",
   "execution_count": null,
   "metadata": {},
   "outputs": [],
   "source": []
  }
 ],
 "metadata": {
  "kernelspec": {
   "display_name": "PythonData",
   "language": "python",
   "name": "pythondata"
  },
  "language_info": {
   "codemirror_mode": {
    "name": "ipython",
    "version": 3
   },
   "file_extension": ".py",
   "mimetype": "text/x-python",
   "name": "python",
   "nbconvert_exporter": "python",
   "pygments_lexer": "ipython3",
   "version": "3.7.9-final"
  },
  "latex_envs": {
   "LaTeX_envs_menu_present": true,
   "autoclose": false,
   "autocomplete": true,
   "bibliofile": "biblio.bib",
   "cite_by": "apalike",
   "current_citInitial": 1,
   "eqLabelWithNumbers": true,
   "eqNumInitial": 1,
   "hotkeys": {
    "equation": "Ctrl-E",
    "itemize": "Ctrl-I"
   },
   "labels_anchors": false,
   "latex_user_defs": false,
   "report_style_numbering": false,
   "user_envs_cfg": false
  }
 },
 "nbformat": 4,
 "nbformat_minor": 2
}