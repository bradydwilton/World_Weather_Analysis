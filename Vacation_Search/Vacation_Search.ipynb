{
 "cells": [
  {
   "cell_type": "markdown",
   "metadata": {},
   "source": [
    "## Deliverable 2. Create a Customer Travel Destinations Map."
   ]
  },
  {
   "cell_type": "code",
   "execution_count": 45,
   "metadata": {},
   "outputs": [],
   "source": [
    "# Dependencies and Setup\n",
    "import pandas as pd\n",
    "import requests\n",
    "import gmaps\n",
    "import os\n",
    "\n",
    "# Import API key\n",
    "from config import g_key\n",
    "\n",
    "# Configure gmaps API key\n",
    "gmaps.configure(api_key=g_key)"
   ]
  },
  {
   "cell_type": "code",
   "execution_count": 46,
   "metadata": {},
   "outputs": [],
   "source": [
    "# 1. Import the WeatherPy_database.csv file. \n",
    "database_path = os.path.join('..','Weather_Database','WeatherPy_Database.csv')\n",
    "city_data_df = pd.read_csv(database_path)"
   ]
  },
  {
   "cell_type": "code",
   "execution_count": 47,
   "metadata": {},
   "outputs": [],
   "source": [
    "# 2. Prompt the user to enter minimum and maximum temperature criteria \n",
    "min_temp = float(input('Enter the minimum temperature desired: '))\n",
    "max_temp = float(input('Enter the maximum temperature desired: '))"
   ]
  },
  {
   "cell_type": "code",
   "execution_count": 48,
   "metadata": {},
   "outputs": [
    {
     "output_type": "execute_result",
     "data": {
      "text/plain": [
       "   Unnamed: 0                   City Country      Lat      Long  Max Temp  \\\n",
       "0           0  Los Llanos De Aridane      ES  28.6585  -17.9182      66.2   \n",
       "1           1                Ushuaia      AR -54.8000  -68.3000      51.8   \n",
       "2           2                  Marin      US  38.0666 -122.7344      50.0   \n",
       "4           4                Mataura      NZ -46.1927  168.8643      48.0   \n",
       "7           7          Mar Del Plata      AR -38.0023  -57.5575      64.4   \n",
       "\n",
       "   Humidity  Cloudiness  Wind Speed   Current Weather  \n",
       "0        72          75       16.11     broken clouds  \n",
       "1        62          20       26.46        few clouds  \n",
       "2        93          90        4.65   overcast clouds  \n",
       "4        80          50        8.01  scattered clouds  \n",
       "7        55          90       23.02   overcast clouds  "
      ],
      "text/html": "<div>\n<style scoped>\n    .dataframe tbody tr th:only-of-type {\n        vertical-align: middle;\n    }\n\n    .dataframe tbody tr th {\n        vertical-align: top;\n    }\n\n    .dataframe thead th {\n        text-align: right;\n    }\n</style>\n<table border=\"1\" class=\"dataframe\">\n  <thead>\n    <tr style=\"text-align: right;\">\n      <th></th>\n      <th>Unnamed: 0</th>\n      <th>City</th>\n      <th>Country</th>\n      <th>Lat</th>\n      <th>Long</th>\n      <th>Max Temp</th>\n      <th>Humidity</th>\n      <th>Cloudiness</th>\n      <th>Wind Speed</th>\n      <th>Current Weather</th>\n    </tr>\n  </thead>\n  <tbody>\n    <tr>\n      <th>0</th>\n      <td>0</td>\n      <td>Los Llanos De Aridane</td>\n      <td>ES</td>\n      <td>28.6585</td>\n      <td>-17.9182</td>\n      <td>66.2</td>\n      <td>72</td>\n      <td>75</td>\n      <td>16.11</td>\n      <td>broken clouds</td>\n    </tr>\n    <tr>\n      <th>1</th>\n      <td>1</td>\n      <td>Ushuaia</td>\n      <td>AR</td>\n      <td>-54.8000</td>\n      <td>-68.3000</td>\n      <td>51.8</td>\n      <td>62</td>\n      <td>20</td>\n      <td>26.46</td>\n      <td>few clouds</td>\n    </tr>\n    <tr>\n      <th>2</th>\n      <td>2</td>\n      <td>Marin</td>\n      <td>US</td>\n      <td>38.0666</td>\n      <td>-122.7344</td>\n      <td>50.0</td>\n      <td>93</td>\n      <td>90</td>\n      <td>4.65</td>\n      <td>overcast clouds</td>\n    </tr>\n    <tr>\n      <th>4</th>\n      <td>4</td>\n      <td>Mataura</td>\n      <td>NZ</td>\n      <td>-46.1927</td>\n      <td>168.8643</td>\n      <td>48.0</td>\n      <td>80</td>\n      <td>50</td>\n      <td>8.01</td>\n      <td>scattered clouds</td>\n    </tr>\n    <tr>\n      <th>7</th>\n      <td>7</td>\n      <td>Mar Del Plata</td>\n      <td>AR</td>\n      <td>-38.0023</td>\n      <td>-57.5575</td>\n      <td>64.4</td>\n      <td>55</td>\n      <td>90</td>\n      <td>23.02</td>\n      <td>overcast clouds</td>\n    </tr>\n  </tbody>\n</table>\n</div>"
     },
     "metadata": {},
     "execution_count": 48
    }
   ],
   "source": [
    "# 3. Filter the city_data_df DataFrame using the input statements to create a new DataFrame using the loc method.\n",
    "preferred_cities_df = city_data_df.loc[(city_data_df['Max Temp'] >= min_temp) & (city_data_df['Max Temp'] <= max_temp)]\n",
    "preferred_cities_df.head()"
   ]
  },
  {
   "cell_type": "code",
   "execution_count": 49,
   "metadata": {},
   "outputs": [
    {
     "output_type": "execute_result",
     "data": {
      "text/plain": [
       "Unnamed: 0         0\n",
       "City               0\n",
       "Country            2\n",
       "Lat                0\n",
       "Long               0\n",
       "Max Temp           0\n",
       "Humidity           0\n",
       "Cloudiness         0\n",
       "Wind Speed         0\n",
       "Current Weather    0\n",
       "dtype: int64"
      ]
     },
     "metadata": {},
     "execution_count": 49
    }
   ],
   "source": [
    "# 4a. Determine if there are any empty rows.\n",
    "preferred_cities_df.isnull().sum()"
   ]
  },
  {
   "cell_type": "code",
   "execution_count": 50,
   "metadata": {},
   "outputs": [],
   "source": [
    "# 4b. Drop any empty rows and create a new DataFrame that doesn’t have empty rows.\n",
    "clean_df = preferred_cities_df.dropna()"
   ]
  },
  {
   "cell_type": "code",
   "execution_count": 51,
   "metadata": {},
   "outputs": [
    {
     "output_type": "execute_result",
     "data": {
      "text/plain": [
       "                     City Country  Max Temp   Current Weather      Lat  \\\n",
       "0   Los Llanos De Aridane      ES     66.20     broken clouds  28.6585   \n",
       "1                 Ushuaia      AR     51.80        few clouds -54.8000   \n",
       "2                   Marin      US     50.00   overcast clouds  38.0666   \n",
       "4                 Mataura      NZ     48.00  scattered clouds -46.1927   \n",
       "7           Mar Del Plata      AR     64.40   overcast clouds -38.0023   \n",
       "10               Penzance      GB     50.00   overcast clouds  50.1186   \n",
       "12               Portland      US     45.00   overcast clouds  45.5234   \n",
       "13               Dehloran      IR     52.97         clear sky  32.6941   \n",
       "15         Severo-Kurilsk      RU     23.54              snow  50.6789   \n",
       "16         Merritt Island      US     71.60     broken clouds  28.5392   \n",
       "\n",
       "        Long Hotel Name  \n",
       "0   -17.9182             \n",
       "1   -68.3000             \n",
       "2  -122.7344             \n",
       "4   168.8643             \n",
       "7   -57.5575             \n",
       "10   -5.5371             \n",
       "12 -122.6762             \n",
       "13   47.2679             \n",
       "15  156.1250             \n",
       "16  -80.6720             "
      ],
      "text/html": "<div>\n<style scoped>\n    .dataframe tbody tr th:only-of-type {\n        vertical-align: middle;\n    }\n\n    .dataframe tbody tr th {\n        vertical-align: top;\n    }\n\n    .dataframe thead th {\n        text-align: right;\n    }\n</style>\n<table border=\"1\" class=\"dataframe\">\n  <thead>\n    <tr style=\"text-align: right;\">\n      <th></th>\n      <th>City</th>\n      <th>Country</th>\n      <th>Max Temp</th>\n      <th>Current Weather</th>\n      <th>Lat</th>\n      <th>Long</th>\n      <th>Hotel Name</th>\n    </tr>\n  </thead>\n  <tbody>\n    <tr>\n      <th>0</th>\n      <td>Los Llanos De Aridane</td>\n      <td>ES</td>\n      <td>66.20</td>\n      <td>broken clouds</td>\n      <td>28.6585</td>\n      <td>-17.9182</td>\n      <td></td>\n    </tr>\n    <tr>\n      <th>1</th>\n      <td>Ushuaia</td>\n      <td>AR</td>\n      <td>51.80</td>\n      <td>few clouds</td>\n      <td>-54.8000</td>\n      <td>-68.3000</td>\n      <td></td>\n    </tr>\n    <tr>\n      <th>2</th>\n      <td>Marin</td>\n      <td>US</td>\n      <td>50.00</td>\n      <td>overcast clouds</td>\n      <td>38.0666</td>\n      <td>-122.7344</td>\n      <td></td>\n    </tr>\n    <tr>\n      <th>4</th>\n      <td>Mataura</td>\n      <td>NZ</td>\n      <td>48.00</td>\n      <td>scattered clouds</td>\n      <td>-46.1927</td>\n      <td>168.8643</td>\n      <td></td>\n    </tr>\n    <tr>\n      <th>7</th>\n      <td>Mar Del Plata</td>\n      <td>AR</td>\n      <td>64.40</td>\n      <td>overcast clouds</td>\n      <td>-38.0023</td>\n      <td>-57.5575</td>\n      <td></td>\n    </tr>\n    <tr>\n      <th>10</th>\n      <td>Penzance</td>\n      <td>GB</td>\n      <td>50.00</td>\n      <td>overcast clouds</td>\n      <td>50.1186</td>\n      <td>-5.5371</td>\n      <td></td>\n    </tr>\n    <tr>\n      <th>12</th>\n      <td>Portland</td>\n      <td>US</td>\n      <td>45.00</td>\n      <td>overcast clouds</td>\n      <td>45.5234</td>\n      <td>-122.6762</td>\n      <td></td>\n    </tr>\n    <tr>\n      <th>13</th>\n      <td>Dehloran</td>\n      <td>IR</td>\n      <td>52.97</td>\n      <td>clear sky</td>\n      <td>32.6941</td>\n      <td>47.2679</td>\n      <td></td>\n    </tr>\n    <tr>\n      <th>15</th>\n      <td>Severo-Kurilsk</td>\n      <td>RU</td>\n      <td>23.54</td>\n      <td>snow</td>\n      <td>50.6789</td>\n      <td>156.1250</td>\n      <td></td>\n    </tr>\n    <tr>\n      <th>16</th>\n      <td>Merritt Island</td>\n      <td>US</td>\n      <td>71.60</td>\n      <td>broken clouds</td>\n      <td>28.5392</td>\n      <td>-80.6720</td>\n      <td></td>\n    </tr>\n  </tbody>\n</table>\n</div>"
     },
     "metadata": {},
     "execution_count": 51
    }
   ],
   "source": [
    "# 5a. Create DataFrame called hotel_df to store hotel names along with city, country, max temp, and coordinates.\n",
    "hotel_df = clean_df[[\"City\", \"Country\", \"Max Temp\", \"Current Weather\", \"Lat\", \"Long\"]].copy()\n",
    "\n",
    "# 5b. Create a new column \"Hotel Name\"\n",
    "hotel_df[\"Hotel Name\"] = \"\"\n",
    "hotel_df.head(10)"
   ]
  },
  {
   "cell_type": "code",
   "execution_count": 52,
   "metadata": {},
   "outputs": [],
   "source": [
    "# 6a. Set parameters to search for hotels with 5000 meters.\n",
    "params = {\n",
    "    \"radius\": 5000,\n",
    "    \"type\": \"lodging\",\n",
    "    \"key\": g_key\n",
    "}\n",
    "\n",
    "# 6b. Iterate through the hotel DataFrame.\n",
    "for index, row in hotel_df.iterrows():\n",
    "    # 6c. Get latitude and longitude from DataFrame\n",
    "    lat = row['Lat']\n",
    "    long = row['Long']\n",
    "    # 6d. Set up the base URL for the Google Directions API to get JSON data.\n",
    "    params['location'] = f'{lat},{long}'\n",
    "    base_url = 'https://maps.googleapis.com/maps/api/place/nearbysearch/json'\n",
    "    # 6e. Make request and retrieve the JSON data from the search. \n",
    "    hotels = requests.get(base_url,params=params).json()\n",
    "    \n",
    "    # 6f. Get the first hotel from the results and store the name, if a hotel isn't found skip the city.\n",
    "    try:\n",
    "        hotel_df.loc[index,'Hotel Name'] = hotels['results'][0]['name']\n",
    "    except:\n",
    "        continue"
   ]
  },
  {
   "cell_type": "code",
   "execution_count": 53,
   "metadata": {},
   "outputs": [],
   "source": [
    "# 7. Drop the rows where there is no Hotel Name.\n",
    "clean_hotel_df = hotel_df.dropna()"
   ]
  },
  {
   "cell_type": "code",
   "execution_count": 54,
   "metadata": {},
   "outputs": [],
   "source": [
    "# 8a. Create the output File (CSV)\n",
    "output_data_file = './WeatherPy_vacation.csv'\n",
    "# 8b. Export the City_Data into a csv\n",
    "clean_hotel_df.to_csv(output_data_file, index_label=\"City_ID\")"
   ]
  },
  {
   "cell_type": "code",
   "execution_count": 55,
   "metadata": {},
   "outputs": [],
   "source": [
    "# 9. Using the template add city name, the country code, the weather description and maximum temperature for the city.\n",
    "info_box_template = \"\"\"\n",
    "<dl>\n",
    "<dt><b>Hotel Name</b></dt><dd>{Hotel Name}</dd>\n",
    "<dt><b>City</b></dt><dd>{City}</dd>\n",
    "<dt><b>Country</b></dt><dd>{Country}</dd>\n",
    "<dt><b>Current Weather</b></dt><dd>{Current Weather}</dd>\n",
    "<dt><b>Max Temp</b></dt><dd>{Max Temp} F</dd>\n",
    "</dl>\n",
    "\"\"\"\n",
    "\n",
    "# 10a. Get the data from each row and add it to the formatting template and store the data in a list.\n",
    "hotel_info = [info_box_template.format(**row) for index, row in clean_hotel_df.iterrows()]\n",
    "\n",
    "# 10b. Get the latitude and longitude from each row and store in a new DataFrame.\n",
    "locations = clean_hotel_df[[\"Lat\", \"Long\"]]"
   ]
  },
  {
   "cell_type": "code",
   "execution_count": 56,
   "metadata": {},
   "outputs": [
    {
     "output_type": "display_data",
     "data": {
      "text/plain": "Figure(layout=FigureLayout(height='420px'))",
      "application/vnd.jupyter.widget-view+json": {
       "version_major": 2,
       "version_minor": 0,
       "model_id": "12276a19755649a0aee3ebc3c4c67117"
      }
     },
     "metadata": {}
    }
   ],
   "source": [
    "# 11a. Add a marker layer for each city to the map. \n",
    "fig=gmaps.figure(center=(30,31),zoom_level=1.5)\n",
    "marker_layer = gmaps.marker_layer(locations, info_box_content=hotel_info)\n",
    "fig.add_layer(marker_layer)\n",
    "# 11b. Display the figure\n",
    "\n",
    "fig"
   ]
  },
  {
   "cell_type": "code",
   "execution_count": null,
   "metadata": {},
   "outputs": [],
   "source": []
  },
  {
   "cell_type": "code",
   "execution_count": null,
   "metadata": {},
   "outputs": [],
   "source": []
  }
 ],
 "metadata": {
  "kernelspec": {
   "display_name": "PythonData",
   "language": "python",
   "name": "pythondata"
  },
  "language_info": {
   "codemirror_mode": {
    "name": "ipython",
    "version": 3
   },
   "file_extension": ".py",
   "mimetype": "text/x-python",
   "name": "python",
   "nbconvert_exporter": "python",
   "pygments_lexer": "ipython3",
   "version": "3.7.9-final"
  },
  "latex_envs": {
   "LaTeX_envs_menu_present": true,
   "autoclose": false,
   "autocomplete": true,
   "bibliofile": "biblio.bib",
   "cite_by": "apalike",
   "current_citInitial": 1,
   "eqLabelWithNumbers": true,
   "eqNumInitial": 1,
   "hotkeys": {
    "equation": "Ctrl-E",
    "itemize": "Ctrl-I"
   },
   "labels_anchors": false,
   "latex_user_defs": false,
   "report_style_numbering": false,
   "user_envs_cfg": false
  }
 },
 "nbformat": 4,
 "nbformat_minor": 2
}