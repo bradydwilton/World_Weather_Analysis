{
 "cells": [
  {
   "cell_type": "code",
   "execution_count": 21,
   "metadata": {},
   "outputs": [],
   "source": [
    "import pandas as pd\n",
    "import numpy as np\n",
    "import matplotlib.pyplot as plt\n",
    "from citipy import citipy\n",
    "from config import weather_api_key"
   ]
  },
  {
   "cell_type": "code",
   "execution_count": 22,
   "metadata": {},
   "outputs": [
    {
     "output_type": "execute_result",
     "data": {
      "text/plain": [
       "<zip at 0x1fd836c7608>"
      ]
     },
     "metadata": {},
     "execution_count": 22
    }
   ],
   "source": [
    "lats = np.random.uniform(-90,90,1500)\n",
    "longs = np.random.uniform(-180,180,1500)\n",
    "lat_lngs = zip(lats,longs)\n",
    "lat_lngs"
   ]
  },
  {
   "cell_type": "code",
   "execution_count": 23,
   "metadata": {},
   "outputs": [],
   "source": [
    "coordinates = list(lat_lngs)"
   ]
  },
  {
   "cell_type": "code",
   "execution_count": 24,
   "metadata": {},
   "outputs": [
    {
     "output_type": "execute_result",
     "data": {
      "text/plain": [
       "'tulsa'"
      ]
     },
     "metadata": {},
     "execution_count": 24
    }
   ],
   "source": [
    "city = citipy.nearest_city(36.154, -95.993)\n",
    "city.city_name"
   ]
  },
  {
   "cell_type": "code",
   "execution_count": 25,
   "metadata": {},
   "outputs": [
    {
     "output_type": "stream",
     "name": "stdout",
     "text": [
      "626\n"
     ]
    }
   ],
   "source": [
    "cities = []\n",
    "for coordinate in coordinates:\n",
    "    # find nearest city\n",
    "    city = citipy.nearest_city(coordinate[0], coordinate[1]).city_name\n",
    "\n",
    "    # if city is unique, add to list of cities\n",
    "    if city not in cities:\n",
    "        cities.append(city)\n",
    "print(len(cities))"
   ]
  },
  {
   "cell_type": "code",
   "execution_count": 26,
   "metadata": {},
   "outputs": [],
   "source": [
    "import requests\n",
    "from datetime import datetime"
   ]
  },
  {
   "cell_type": "code",
   "execution_count": 27,
   "metadata": {
    "tags": []
   },
   "outputs": [
    {
     "output_type": "stream",
     "name": "stdout",
     "text": [
      "Beginning Data Retreival         \n",
      "---------------------------------\n",
      "580 46\n"
     ]
    }
   ],
   "source": [
    "# Define base url\n",
    "url = 'http://api.openweathermap.org/data/2.5/weather?q='\n",
    "# Create empty list to hold the weather data\n",
    "city_data = []\n",
    "\n",
    "# Print the beginning of logging\n",
    "print(\"Beginning Data Retreival         \")\n",
    "print(\"---------------------------------\")\n",
    "\n",
    "# Create counters for cities and log sets\n",
    "record_count = 1\n",
    "set_count = 1\n",
    "cities_found = 0\n",
    "cities_not_found = 0\n",
    "\n",
    "# Loop through all the cities in our list\n",
    "for i in range(0,len(cities)):\n",
    "\n",
    "    # Group cities in sets of 50 for logging purposes\n",
    "    if (i % 50 == 0 and i >= 50):\n",
    "        set_count += 1\n",
    "        record_count = 1\n",
    "\n",
    "    # Create endpoint URL with each city\n",
    "    city = cities[i]\n",
    "    city_url = url + city.replace(\" \",\"+\") + '&units=Imperial&APPID=' + weather_api_key\n",
    "\n",
    "    # Log the URL, record, and set numbers, and the city\n",
    "#     print(f'Processing Record {record_count} of Set {set_count}: {cities[i]}')\n",
    "\n",
    "    record_count += 1\n",
    "\n",
    "    try:\n",
    "        city_weather = requests.get(city_url).json()\n",
    "        city_lat = city_weather['coord']['lat']\n",
    "        city_long = city_weather['coord']['lon']\n",
    "        city_max_temp = city_weather[\"main\"]['temp_max']\n",
    "        city_humidity = city_weather['main']['humidity']\n",
    "        city_clouds = city_weather['clouds']['all']\n",
    "        city_wind = city_weather['wind']['speed']\n",
    "        city_country = city_weather['sys']['country']\n",
    "        city_date = datetime.utcfromtimestamp(city_weather['dt']).strftime('%Y-%m-%d %H:%M:%S')\n",
    "        city_data.append({'City': city.title(),\n",
    "                            'Lat': city_lat,\n",
    "                            'Long': city_long,\n",
    "                            'Max Temp': city_max_temp,\n",
    "                            'Humidity': city_humidity,\n",
    "                            'Cloudiness': city_clouds,\n",
    "                            'Wind Speed': city_wind,\n",
    "                            'Country': city_country,\n",
    "                            'Date': city_date})\n",
    "        cities_found += 1\n",
    "    except:\n",
    "#         print('City not found. Skipping...')\n",
    "        cities_not_found += 1\n",
    "        continue\n",
    "print(cities_found, cities_not_found)\n",
    "# city = cities[i]\n",
    "# city_url = url + '&q=' + city.replace(\" \",\"+\")\n",
    "# r = requests.get(city_url)\n",
    "# print(r)\n"
   ]
  },
  {
   "cell_type": "code",
   "execution_count": 28,
   "metadata": {},
   "outputs": [
    {
     "output_type": "execute_result",
     "data": {
      "text/plain": [
       "580"
      ]
     },
     "metadata": {},
     "execution_count": 28
    }
   ],
   "source": [
    "len(city_data)"
   ]
  },
  {
   "cell_type": "code",
   "execution_count": 29,
   "metadata": {},
   "outputs": [
    {
     "output_type": "execute_result",
     "data": {
      "text/plain": [
       "{'City': 'Trairi',\n",
       " 'Lat': -3.2778,\n",
       " 'Long': -39.2689,\n",
       " 'Max Temp': 84.49,\n",
       " 'Humidity': 63,\n",
       " 'Cloudiness': 66,\n",
       " 'Wind Speed': 10.8,\n",
       " 'Country': 'BR',\n",
       " 'Date': '2021-01-27 12:21:32'}"
      ]
     },
     "metadata": {},
     "execution_count": 29
    }
   ],
   "source": [
    "city_data[1]"
   ]
  },
  {
   "cell_type": "code",
   "execution_count": 30,
   "metadata": {},
   "outputs": [],
   "source": [
    "city_weather_df = pd.DataFrame(city_data)"
   ]
  },
  {
   "cell_type": "code",
   "execution_count": 31,
   "metadata": {
    "tags": []
   },
   "outputs": [
    {
     "output_type": "execute_result",
     "data": {
      "text/plain": [
       "            City      Lat      Long  Max Temp  Humidity  Cloudiness  \\\n",
       "0      Grindavik  63.8424  -22.4338     30.20        55          90   \n",
       "1         Trairi  -3.2778  -39.2689     84.49        63          66   \n",
       "2        Kencong  -8.2833  113.3667     76.98        85          93   \n",
       "3      Sokyryany  48.4475   27.4168     32.00        80         100   \n",
       "4       Cherskiy  68.7500  161.3000    -26.61        83         100   \n",
       "5          Bluff -46.6000  168.3333     54.00        86          16   \n",
       "6        Rikitea -23.1203 -134.9692     79.29        74          19   \n",
       "7  Mar Del Plata -38.0023  -57.5575     68.00        68          20   \n",
       "8       La Ronge  55.1001 -105.2842    -14.80        76          98   \n",
       "9       Khatanga  71.9667  102.5000    -28.14        80          12   \n",
       "\n",
       "   Wind Speed Country                 Date  \n",
       "0       26.46      IS  2021-01-27 12:21:32  \n",
       "1       10.80      BR  2021-01-27 12:21:32  \n",
       "2        3.36      ID  2021-01-27 12:21:33  \n",
       "3        8.01      UA  2021-01-27 12:21:27  \n",
       "4        2.46      RU  2021-01-27 12:21:33  \n",
       "5       18.01      NZ  2021-01-27 12:21:33  \n",
       "6       14.99      PF  2021-01-27 12:21:33  \n",
       "7       16.11      AR  2021-01-27 12:21:34  \n",
       "8        4.61      CA  2021-01-27 12:21:34  \n",
       "9        9.37      RU  2021-01-27 12:21:34  "
      ],
      "text/html": "<div>\n<style scoped>\n    .dataframe tbody tr th:only-of-type {\n        vertical-align: middle;\n    }\n\n    .dataframe tbody tr th {\n        vertical-align: top;\n    }\n\n    .dataframe thead th {\n        text-align: right;\n    }\n</style>\n<table border=\"1\" class=\"dataframe\">\n  <thead>\n    <tr style=\"text-align: right;\">\n      <th></th>\n      <th>City</th>\n      <th>Lat</th>\n      <th>Long</th>\n      <th>Max Temp</th>\n      <th>Humidity</th>\n      <th>Cloudiness</th>\n      <th>Wind Speed</th>\n      <th>Country</th>\n      <th>Date</th>\n    </tr>\n  </thead>\n  <tbody>\n    <tr>\n      <th>0</th>\n      <td>Grindavik</td>\n      <td>63.8424</td>\n      <td>-22.4338</td>\n      <td>30.20</td>\n      <td>55</td>\n      <td>90</td>\n      <td>26.46</td>\n      <td>IS</td>\n      <td>2021-01-27 12:21:32</td>\n    </tr>\n    <tr>\n      <th>1</th>\n      <td>Trairi</td>\n      <td>-3.2778</td>\n      <td>-39.2689</td>\n      <td>84.49</td>\n      <td>63</td>\n      <td>66</td>\n      <td>10.80</td>\n      <td>BR</td>\n      <td>2021-01-27 12:21:32</td>\n    </tr>\n    <tr>\n      <th>2</th>\n      <td>Kencong</td>\n      <td>-8.2833</td>\n      <td>113.3667</td>\n      <td>76.98</td>\n      <td>85</td>\n      <td>93</td>\n      <td>3.36</td>\n      <td>ID</td>\n      <td>2021-01-27 12:21:33</td>\n    </tr>\n    <tr>\n      <th>3</th>\n      <td>Sokyryany</td>\n      <td>48.4475</td>\n      <td>27.4168</td>\n      <td>32.00</td>\n      <td>80</td>\n      <td>100</td>\n      <td>8.01</td>\n      <td>UA</td>\n      <td>2021-01-27 12:21:27</td>\n    </tr>\n    <tr>\n      <th>4</th>\n      <td>Cherskiy</td>\n      <td>68.7500</td>\n      <td>161.3000</td>\n      <td>-26.61</td>\n      <td>83</td>\n      <td>100</td>\n      <td>2.46</td>\n      <td>RU</td>\n      <td>2021-01-27 12:21:33</td>\n    </tr>\n    <tr>\n      <th>5</th>\n      <td>Bluff</td>\n      <td>-46.6000</td>\n      <td>168.3333</td>\n      <td>54.00</td>\n      <td>86</td>\n      <td>16</td>\n      <td>18.01</td>\n      <td>NZ</td>\n      <td>2021-01-27 12:21:33</td>\n    </tr>\n    <tr>\n      <th>6</th>\n      <td>Rikitea</td>\n      <td>-23.1203</td>\n      <td>-134.9692</td>\n      <td>79.29</td>\n      <td>74</td>\n      <td>19</td>\n      <td>14.99</td>\n      <td>PF</td>\n      <td>2021-01-27 12:21:33</td>\n    </tr>\n    <tr>\n      <th>7</th>\n      <td>Mar Del Plata</td>\n      <td>-38.0023</td>\n      <td>-57.5575</td>\n      <td>68.00</td>\n      <td>68</td>\n      <td>20</td>\n      <td>16.11</td>\n      <td>AR</td>\n      <td>2021-01-27 12:21:34</td>\n    </tr>\n    <tr>\n      <th>8</th>\n      <td>La Ronge</td>\n      <td>55.1001</td>\n      <td>-105.2842</td>\n      <td>-14.80</td>\n      <td>76</td>\n      <td>98</td>\n      <td>4.61</td>\n      <td>CA</td>\n      <td>2021-01-27 12:21:34</td>\n    </tr>\n    <tr>\n      <th>9</th>\n      <td>Khatanga</td>\n      <td>71.9667</td>\n      <td>102.5000</td>\n      <td>-28.14</td>\n      <td>80</td>\n      <td>12</td>\n      <td>9.37</td>\n      <td>RU</td>\n      <td>2021-01-27 12:21:34</td>\n    </tr>\n  </tbody>\n</table>\n</div>"
     },
     "metadata": {},
     "execution_count": 31
    }
   ],
   "source": [
    "city_weather_df.head(10)"
   ]
  },
  {
   "cell_type": "code",
   "execution_count": 32,
   "metadata": {},
   "outputs": [
    {
     "output_type": "execute_result",
     "data": {
      "text/plain": [
       "             City Country                 Date      Lat      Long  Max Temp  \\\n",
       "570        Wajima      JP  2021-01-27 12:23:21  37.4000  136.9000     40.77   \n",
       "571     Nam Phong      TH  2021-01-27 12:23:21  16.7023  102.8557     82.00   \n",
       "572         Tapes      BR  2021-01-27 12:23:21 -30.6733  -51.3958     78.33   \n",
       "573      Glendive      US  2021-01-27 12:23:21  47.1053 -104.7125     10.00   \n",
       "574        Suzdal      RU  2021-01-27 12:23:21  56.4281   40.4414     31.51   \n",
       "575    Talcahuano      CL  2021-01-27 12:23:22 -36.7167  -73.1167     57.20   \n",
       "576     Raduzhnyy      RU  2021-01-27 12:21:11  62.0961   77.4750    -32.22   \n",
       "577       Bilecik      TR  2021-01-27 12:23:22  40.0000   30.1667     50.00   \n",
       "578          Surt      LY  2021-01-27 12:23:22  31.2089   16.5887     58.60   \n",
       "579  Khudumelapye      BW  2021-01-27 12:23:22 -23.8833   24.7500     83.50   \n",
       "\n",
       "     Humidity  Cloudiness  Wind Speed  \n",
       "570        68          32       15.01  \n",
       "571        57          40        1.14  \n",
       "572        81          99       11.56  \n",
       "573        92          90        4.61  \n",
       "574        96          96       10.85  \n",
       "575        72           0       16.11  \n",
       "576        82           8        7.52  \n",
       "577        62          40       18.41  \n",
       "578        53          38       16.69  \n",
       "579        51          94       11.74  "
      ],
      "text/html": "<div>\n<style scoped>\n    .dataframe tbody tr th:only-of-type {\n        vertical-align: middle;\n    }\n\n    .dataframe tbody tr th {\n        vertical-align: top;\n    }\n\n    .dataframe thead th {\n        text-align: right;\n    }\n</style>\n<table border=\"1\" class=\"dataframe\">\n  <thead>\n    <tr style=\"text-align: right;\">\n      <th></th>\n      <th>City</th>\n      <th>Country</th>\n      <th>Date</th>\n      <th>Lat</th>\n      <th>Long</th>\n      <th>Max Temp</th>\n      <th>Humidity</th>\n      <th>Cloudiness</th>\n      <th>Wind Speed</th>\n    </tr>\n  </thead>\n  <tbody>\n    <tr>\n      <th>570</th>\n      <td>Wajima</td>\n      <td>JP</td>\n      <td>2021-01-27 12:23:21</td>\n      <td>37.4000</td>\n      <td>136.9000</td>\n      <td>40.77</td>\n      <td>68</td>\n      <td>32</td>\n      <td>15.01</td>\n    </tr>\n    <tr>\n      <th>571</th>\n      <td>Nam Phong</td>\n      <td>TH</td>\n      <td>2021-01-27 12:23:21</td>\n      <td>16.7023</td>\n      <td>102.8557</td>\n      <td>82.00</td>\n      <td>57</td>\n      <td>40</td>\n      <td>1.14</td>\n    </tr>\n    <tr>\n      <th>572</th>\n      <td>Tapes</td>\n      <td>BR</td>\n      <td>2021-01-27 12:23:21</td>\n      <td>-30.6733</td>\n      <td>-51.3958</td>\n      <td>78.33</td>\n      <td>81</td>\n      <td>99</td>\n      <td>11.56</td>\n    </tr>\n    <tr>\n      <th>573</th>\n      <td>Glendive</td>\n      <td>US</td>\n      <td>2021-01-27 12:23:21</td>\n      <td>47.1053</td>\n      <td>-104.7125</td>\n      <td>10.00</td>\n      <td>92</td>\n      <td>90</td>\n      <td>4.61</td>\n    </tr>\n    <tr>\n      <th>574</th>\n      <td>Suzdal</td>\n      <td>RU</td>\n      <td>2021-01-27 12:23:21</td>\n      <td>56.4281</td>\n      <td>40.4414</td>\n      <td>31.51</td>\n      <td>96</td>\n      <td>96</td>\n      <td>10.85</td>\n    </tr>\n    <tr>\n      <th>575</th>\n      <td>Talcahuano</td>\n      <td>CL</td>\n      <td>2021-01-27 12:23:22</td>\n      <td>-36.7167</td>\n      <td>-73.1167</td>\n      <td>57.20</td>\n      <td>72</td>\n      <td>0</td>\n      <td>16.11</td>\n    </tr>\n    <tr>\n      <th>576</th>\n      <td>Raduzhnyy</td>\n      <td>RU</td>\n      <td>2021-01-27 12:21:11</td>\n      <td>62.0961</td>\n      <td>77.4750</td>\n      <td>-32.22</td>\n      <td>82</td>\n      <td>8</td>\n      <td>7.52</td>\n    </tr>\n    <tr>\n      <th>577</th>\n      <td>Bilecik</td>\n      <td>TR</td>\n      <td>2021-01-27 12:23:22</td>\n      <td>40.0000</td>\n      <td>30.1667</td>\n      <td>50.00</td>\n      <td>62</td>\n      <td>40</td>\n      <td>18.41</td>\n    </tr>\n    <tr>\n      <th>578</th>\n      <td>Surt</td>\n      <td>LY</td>\n      <td>2021-01-27 12:23:22</td>\n      <td>31.2089</td>\n      <td>16.5887</td>\n      <td>58.60</td>\n      <td>53</td>\n      <td>38</td>\n      <td>16.69</td>\n    </tr>\n    <tr>\n      <th>579</th>\n      <td>Khudumelapye</td>\n      <td>BW</td>\n      <td>2021-01-27 12:23:22</td>\n      <td>-23.8833</td>\n      <td>24.7500</td>\n      <td>83.50</td>\n      <td>51</td>\n      <td>94</td>\n      <td>11.74</td>\n    </tr>\n  </tbody>\n</table>\n</div>"
     },
     "metadata": {},
     "execution_count": 32
    }
   ],
   "source": [
    "column_order = ['City','Country','Date','Lat','Long','Max Temp','Humidity','Cloudiness','Wind Speed']\n",
    "city_weather_df = city_weather_df[column_order]\n",
    "city_weather_df.tail(10)"
   ]
  },
  {
   "cell_type": "code",
   "execution_count": 33,
   "metadata": {},
   "outputs": [
    {
     "output_type": "execute_result",
     "data": {
      "text/plain": [
       "               City Country                 Date      Lat      Long  Max Temp  \\\n",
       "44         Ahuimanu      US  2021-01-27 12:21:41  21.4447 -157.8378     75.20   \n",
       "33           Albany      US  2021-01-27 12:21:39  42.6001  -73.9662     28.00   \n",
       "210        Atchison      US  2021-01-27 12:22:13  39.5630  -95.1216     21.00   \n",
       "192          Barrow      US  2021-01-27 12:20:07  71.2906 -156.7887    -11.20   \n",
       "180          Bethel      US  2021-01-27 12:22:07  41.3712  -73.4140     28.99   \n",
       "52           Broome      US  2021-01-27 12:21:43  42.2506  -75.8330     26.01   \n",
       "498             Bud      US  2021-01-27 12:23:09  39.4470  -86.1758     28.99   \n",
       "486         College      US  2021-01-27 12:19:04  64.8569 -147.8028    -23.80   \n",
       "454    Collierville      US  2021-01-27 12:18:25  35.0420  -89.6645     42.01   \n",
       "534          Denton      US  2021-01-27 12:23:15  33.2001  -97.1336     36.00   \n",
       "204          Dillon      US  2021-01-27 12:22:12  34.4166  -79.3712     54.00   \n",
       "107         Douglas      US  2021-01-27 12:21:53  41.3000  -96.1670     16.00   \n",
       "322       Fairbanks      US  2021-01-27 12:22:01  64.8378 -147.7164    -23.80   \n",
       "464          Fallon      US  2021-01-27 12:23:03  39.4735 -118.7774     35.60   \n",
       "404         Fortuna      US  2021-01-27 12:22:52  40.5982 -124.1573     43.00   \n",
       "573        Glendive      US  2021-01-27 12:23:21  47.1053 -104.7125     10.00   \n",
       "316    Green Valley      US  2021-01-27 12:22:35  31.8543 -110.9937     35.60   \n",
       "514   Half Moon Bay      US  2021-01-27 12:23:12  37.4636 -122.4286     52.00   \n",
       "226        Hamilton      US  2021-01-27 12:22:16  39.1834  -84.5333     32.00   \n",
       "217        Havelock      US  2021-01-27 12:22:14  34.8791  -76.9013     53.01   \n",
       "222       Haysville      US  2021-01-27 12:17:38  37.5645  -97.3523     26.01   \n",
       "183            Hilo      US  2021-01-27 12:22:08  19.7297 -155.0900     68.00   \n",
       "286      Isla Vista      US  2021-01-27 12:22:29  34.4133 -119.8610     50.00   \n",
       "109       Jamestown      US  2021-01-27 12:21:54  42.0970  -79.2353     25.00   \n",
       "552          Jasper      US  2021-01-27 12:20:45  37.2001  -94.3502     28.40   \n",
       "447          Juneau      US  2021-01-27 12:23:00  58.3019 -134.4197     21.20   \n",
       "511         Kahului      US  2021-01-27 12:23:11  20.8947 -156.4700     71.60   \n",
       "104           Kapaa      US  2021-01-27 12:21:52  22.0752 -159.3190     73.99   \n",
       "238       Ketchikan      US  2021-01-27 12:22:18  55.3422 -131.6461     23.00   \n",
       "50           Kodiak      US  2021-01-27 12:21:42  57.7900 -152.4072     28.40   \n",
       "389         Lakeway      US  2021-01-27 12:20:27  30.3638  -97.9796     48.00   \n",
       "495         Lindsay      US  2021-01-27 12:19:51  36.2030 -119.0882     46.99   \n",
       "173          Lompoc      US  2021-01-27 12:17:28  34.6391 -120.4579     50.00   \n",
       "207            Mayo      US  2021-01-27 12:22:13  38.8876  -76.5119     39.99   \n",
       "195       Nantucket      US  2021-01-27 12:17:57  41.2835  -70.0995     35.01   \n",
       "43             Nome      US  2021-01-27 12:21:41  64.5011 -165.4064      6.80   \n",
       "554           Ocala      US  2021-01-27 12:22:22  29.1872  -82.1401     59.00   \n",
       "381   Pacific Grove      US  2021-01-27 12:21:06  36.6177 -121.9166     51.80   \n",
       "201          Palmer      US  2021-01-27 12:19:03  42.1584  -72.3287     28.00   \n",
       "558         Parsons      US  2021-01-27 12:23:19  37.3403  -95.2611     28.40   \n",
       "320          Payson      US  2021-01-27 12:22:36  40.0444 -111.7321     24.80   \n",
       "450        Portland      US  2021-01-27 12:20:25  45.5234 -122.6762     37.99   \n",
       "446          Powell      US  2021-01-27 12:23:00  40.1578  -83.0752     30.99   \n",
       "405          Rincon      US  2021-01-27 12:22:52  32.2960  -81.2354     60.80   \n",
       "501   Saint Anthony      US  2021-01-27 12:23:10  45.0205  -93.2180     10.40   \n",
       "178    Saint George      US  2021-01-27 12:21:17  37.1041 -113.5841     36.00   \n",
       "465    Saint Joseph      US  2021-01-27 12:18:20  39.7686  -94.8466     21.00   \n",
       "473        San Jose      US  2021-01-27 12:23:04  37.3394 -121.8950     48.99   \n",
       "190    San Patricio      US  2021-01-27 12:22:09  28.0170  -97.5169     57.00   \n",
       "264       San Ramon      US  2021-01-27 12:18:15  37.7799 -121.9780     48.20   \n",
       "157      Shreveport      US  2021-01-27 12:20:32  32.5251  -93.7502     48.20   \n",
       "477           Sitka      US  2021-01-27 12:23:05  57.0531 -135.3300     26.60   \n",
       "137      Springdale      US  2021-01-27 12:19:17  36.1867  -94.1288     33.01   \n",
       "241        Staunton      US  2021-01-27 12:22:19  38.1496  -79.0717     37.40   \n",
       "462        Superior      US  2021-01-27 12:20:03  46.7208  -92.1041     -2.99   \n",
       "125     Tallahassee      US  2021-01-27 12:21:22  30.4383  -84.2807     69.80   \n",
       "346  Tarpon Springs      US  2021-01-27 12:22:41  28.1461  -82.7568     68.00   \n",
       "410   West Wendover      US  2021-01-27 12:22:53  40.7391 -114.0733     23.00   \n",
       "364        Westport      US  2021-01-27 12:22:44  41.1415  -73.3579     32.00   \n",
       "208     Worthington      US  2021-01-27 12:22:13  40.0931  -83.0180     30.99   \n",
       "\n",
       "     Humidity  Cloudiness  Wind Speed  \n",
       "44         73          90       10.36  \n",
       "33         81         100        2.91  \n",
       "210        91         100        8.03  \n",
       "192        77          90        6.91  \n",
       "180        93          75        3.56  \n",
       "52         80          90       14.97  \n",
       "498        80          90       10.36  \n",
       "486        76           1        2.59  \n",
       "454        87          75        6.91  \n",
       "534        80           1        9.22  \n",
       "204       100          90        5.75  \n",
       "107        85          90        6.91  \n",
       "322        76           1        2.42  \n",
       "464        55          90       25.32  \n",
       "404        93          90       20.71  \n",
       "573        92          90        4.61  \n",
       "316        69           1        9.22  \n",
       "514        93          90        5.75  \n",
       "226        80          90        9.22  \n",
       "217       100          75        5.75  \n",
       "222        80          90       10.36  \n",
       "183        88          90        8.05  \n",
       "286        71          90       13.80  \n",
       "109       100          90        8.52  \n",
       "552        93          90        8.05  \n",
       "447        38          20        4.61  \n",
       "511        78           1       12.66  \n",
       "104        88          20       17.27  \n",
       "238        93           1        4.61  \n",
       "50         74           1        3.44  \n",
       "389        70          75        5.75  \n",
       "495        76          90        6.91  \n",
       "173        87          90       13.80  \n",
       "207        93          90        6.91  \n",
       "195       100          90        5.75  \n",
       "43         85          90        9.22  \n",
       "554       100          75        5.01  \n",
       "381        87          90       10.36  \n",
       "201        94          98        3.60  \n",
       "558        86          90        6.91  \n",
       "320        74          20       12.66  \n",
       "450        93          90        3.51  \n",
       "446        86          90        6.91  \n",
       "405        82          90       19.57  \n",
       "501        56          90        6.91  \n",
       "178        64          90        6.91  \n",
       "465        93          90        8.05  \n",
       "473        81          75       16.11  \n",
       "190        67          90       21.85  \n",
       "264        87          90        5.91  \n",
       "157        87          20       10.36  \n",
       "477        43           1        9.17  \n",
       "137       100          90       11.50  \n",
       "241        80           1        5.08  \n",
       "462        84           1        3.44  \n",
       "125       100          90       11.50  \n",
       "346        94           0       10.36  \n",
       "410        80          90       10.36  \n",
       "364        86          90        5.75  \n",
       "208        86          90        6.91  "
      ],
      "text/html": "<div>\n<style scoped>\n    .dataframe tbody tr th:only-of-type {\n        vertical-align: middle;\n    }\n\n    .dataframe tbody tr th {\n        vertical-align: top;\n    }\n\n    .dataframe thead th {\n        text-align: right;\n    }\n</style>\n<table border=\"1\" class=\"dataframe\">\n  <thead>\n    <tr style=\"text-align: right;\">\n      <th></th>\n      <th>City</th>\n      <th>Country</th>\n      <th>Date</th>\n      <th>Lat</th>\n      <th>Long</th>\n      <th>Max Temp</th>\n      <th>Humidity</th>\n      <th>Cloudiness</th>\n      <th>Wind Speed</th>\n    </tr>\n  </thead>\n  <tbody>\n    <tr>\n      <th>44</th>\n      <td>Ahuimanu</td>\n      <td>US</td>\n      <td>2021-01-27 12:21:41</td>\n      <td>21.4447</td>\n      <td>-157.8378</td>\n      <td>75.20</td>\n      <td>73</td>\n      <td>90</td>\n      <td>10.36</td>\n    </tr>\n    <tr>\n      <th>33</th>\n      <td>Albany</td>\n      <td>US</td>\n      <td>2021-01-27 12:21:39</td>\n      <td>42.6001</td>\n      <td>-73.9662</td>\n      <td>28.00</td>\n      <td>81</td>\n      <td>100</td>\n      <td>2.91</td>\n    </tr>\n    <tr>\n      <th>210</th>\n      <td>Atchison</td>\n      <td>US</td>\n      <td>2021-01-27 12:22:13</td>\n      <td>39.5630</td>\n      <td>-95.1216</td>\n      <td>21.00</td>\n      <td>91</td>\n      <td>100</td>\n      <td>8.03</td>\n    </tr>\n    <tr>\n      <th>192</th>\n      <td>Barrow</td>\n      <td>US</td>\n      <td>2021-01-27 12:20:07</td>\n      <td>71.2906</td>\n      <td>-156.7887</td>\n      <td>-11.20</td>\n      <td>77</td>\n      <td>90</td>\n      <td>6.91</td>\n    </tr>\n    <tr>\n      <th>180</th>\n      <td>Bethel</td>\n      <td>US</td>\n      <td>2021-01-27 12:22:07</td>\n      <td>41.3712</td>\n      <td>-73.4140</td>\n      <td>28.99</td>\n      <td>93</td>\n      <td>75</td>\n      <td>3.56</td>\n    </tr>\n    <tr>\n      <th>52</th>\n      <td>Broome</td>\n      <td>US</td>\n      <td>2021-01-27 12:21:43</td>\n      <td>42.2506</td>\n      <td>-75.8330</td>\n      <td>26.01</td>\n      <td>80</td>\n      <td>90</td>\n      <td>14.97</td>\n    </tr>\n    <tr>\n      <th>498</th>\n      <td>Bud</td>\n      <td>US</td>\n      <td>2021-01-27 12:23:09</td>\n      <td>39.4470</td>\n      <td>-86.1758</td>\n      <td>28.99</td>\n      <td>80</td>\n      <td>90</td>\n      <td>10.36</td>\n    </tr>\n    <tr>\n      <th>486</th>\n      <td>College</td>\n      <td>US</td>\n      <td>2021-01-27 12:19:04</td>\n      <td>64.8569</td>\n      <td>-147.8028</td>\n      <td>-23.80</td>\n      <td>76</td>\n      <td>1</td>\n      <td>2.59</td>\n    </tr>\n    <tr>\n      <th>454</th>\n      <td>Collierville</td>\n      <td>US</td>\n      <td>2021-01-27 12:18:25</td>\n      <td>35.0420</td>\n      <td>-89.6645</td>\n      <td>42.01</td>\n      <td>87</td>\n      <td>75</td>\n      <td>6.91</td>\n    </tr>\n    <tr>\n      <th>534</th>\n      <td>Denton</td>\n      <td>US</td>\n      <td>2021-01-27 12:23:15</td>\n      <td>33.2001</td>\n      <td>-97.1336</td>\n      <td>36.00</td>\n      <td>80</td>\n      <td>1</td>\n      <td>9.22</td>\n    </tr>\n    <tr>\n      <th>204</th>\n      <td>Dillon</td>\n      <td>US</td>\n      <td>2021-01-27 12:22:12</td>\n      <td>34.4166</td>\n      <td>-79.3712</td>\n      <td>54.00</td>\n      <td>100</td>\n      <td>90</td>\n      <td>5.75</td>\n    </tr>\n    <tr>\n      <th>107</th>\n      <td>Douglas</td>\n      <td>US</td>\n      <td>2021-01-27 12:21:53</td>\n      <td>41.3000</td>\n      <td>-96.1670</td>\n      <td>16.00</td>\n      <td>85</td>\n      <td>90</td>\n      <td>6.91</td>\n    </tr>\n    <tr>\n      <th>322</th>\n      <td>Fairbanks</td>\n      <td>US</td>\n      <td>2021-01-27 12:22:01</td>\n      <td>64.8378</td>\n      <td>-147.7164</td>\n      <td>-23.80</td>\n      <td>76</td>\n      <td>1</td>\n      <td>2.42</td>\n    </tr>\n    <tr>\n      <th>464</th>\n      <td>Fallon</td>\n      <td>US</td>\n      <td>2021-01-27 12:23:03</td>\n      <td>39.4735</td>\n      <td>-118.7774</td>\n      <td>35.60</td>\n      <td>55</td>\n      <td>90</td>\n      <td>25.32</td>\n    </tr>\n    <tr>\n      <th>404</th>\n      <td>Fortuna</td>\n      <td>US</td>\n      <td>2021-01-27 12:22:52</td>\n      <td>40.5982</td>\n      <td>-124.1573</td>\n      <td>43.00</td>\n      <td>93</td>\n      <td>90</td>\n      <td>20.71</td>\n    </tr>\n    <tr>\n      <th>573</th>\n      <td>Glendive</td>\n      <td>US</td>\n      <td>2021-01-27 12:23:21</td>\n      <td>47.1053</td>\n      <td>-104.7125</td>\n      <td>10.00</td>\n      <td>92</td>\n      <td>90</td>\n      <td>4.61</td>\n    </tr>\n    <tr>\n      <th>316</th>\n      <td>Green Valley</td>\n      <td>US</td>\n      <td>2021-01-27 12:22:35</td>\n      <td>31.8543</td>\n      <td>-110.9937</td>\n      <td>35.60</td>\n      <td>69</td>\n      <td>1</td>\n      <td>9.22</td>\n    </tr>\n    <tr>\n      <th>514</th>\n      <td>Half Moon Bay</td>\n      <td>US</td>\n      <td>2021-01-27 12:23:12</td>\n      <td>37.4636</td>\n      <td>-122.4286</td>\n      <td>52.00</td>\n      <td>93</td>\n      <td>90</td>\n      <td>5.75</td>\n    </tr>\n    <tr>\n      <th>226</th>\n      <td>Hamilton</td>\n      <td>US</td>\n      <td>2021-01-27 12:22:16</td>\n      <td>39.1834</td>\n      <td>-84.5333</td>\n      <td>32.00</td>\n      <td>80</td>\n      <td>90</td>\n      <td>9.22</td>\n    </tr>\n    <tr>\n      <th>217</th>\n      <td>Havelock</td>\n      <td>US</td>\n      <td>2021-01-27 12:22:14</td>\n      <td>34.8791</td>\n      <td>-76.9013</td>\n      <td>53.01</td>\n      <td>100</td>\n      <td>75</td>\n      <td>5.75</td>\n    </tr>\n    <tr>\n      <th>222</th>\n      <td>Haysville</td>\n      <td>US</td>\n      <td>2021-01-27 12:17:38</td>\n      <td>37.5645</td>\n      <td>-97.3523</td>\n      <td>26.01</td>\n      <td>80</td>\n      <td>90</td>\n      <td>10.36</td>\n    </tr>\n    <tr>\n      <th>183</th>\n      <td>Hilo</td>\n      <td>US</td>\n      <td>2021-01-27 12:22:08</td>\n      <td>19.7297</td>\n      <td>-155.0900</td>\n      <td>68.00</td>\n      <td>88</td>\n      <td>90</td>\n      <td>8.05</td>\n    </tr>\n    <tr>\n      <th>286</th>\n      <td>Isla Vista</td>\n      <td>US</td>\n      <td>2021-01-27 12:22:29</td>\n      <td>34.4133</td>\n      <td>-119.8610</td>\n      <td>50.00</td>\n      <td>71</td>\n      <td>90</td>\n      <td>13.80</td>\n    </tr>\n    <tr>\n      <th>109</th>\n      <td>Jamestown</td>\n      <td>US</td>\n      <td>2021-01-27 12:21:54</td>\n      <td>42.0970</td>\n      <td>-79.2353</td>\n      <td>25.00</td>\n      <td>100</td>\n      <td>90</td>\n      <td>8.52</td>\n    </tr>\n    <tr>\n      <th>552</th>\n      <td>Jasper</td>\n      <td>US</td>\n      <td>2021-01-27 12:20:45</td>\n      <td>37.2001</td>\n      <td>-94.3502</td>\n      <td>28.40</td>\n      <td>93</td>\n      <td>90</td>\n      <td>8.05</td>\n    </tr>\n    <tr>\n      <th>447</th>\n      <td>Juneau</td>\n      <td>US</td>\n      <td>2021-01-27 12:23:00</td>\n      <td>58.3019</td>\n      <td>-134.4197</td>\n      <td>21.20</td>\n      <td>38</td>\n      <td>20</td>\n      <td>4.61</td>\n    </tr>\n    <tr>\n      <th>511</th>\n      <td>Kahului</td>\n      <td>US</td>\n      <td>2021-01-27 12:23:11</td>\n      <td>20.8947</td>\n      <td>-156.4700</td>\n      <td>71.60</td>\n      <td>78</td>\n      <td>1</td>\n      <td>12.66</td>\n    </tr>\n    <tr>\n      <th>104</th>\n      <td>Kapaa</td>\n      <td>US</td>\n      <td>2021-01-27 12:21:52</td>\n      <td>22.0752</td>\n      <td>-159.3190</td>\n      <td>73.99</td>\n      <td>88</td>\n      <td>20</td>\n      <td>17.27</td>\n    </tr>\n    <tr>\n      <th>238</th>\n      <td>Ketchikan</td>\n      <td>US</td>\n      <td>2021-01-27 12:22:18</td>\n      <td>55.3422</td>\n      <td>-131.6461</td>\n      <td>23.00</td>\n      <td>93</td>\n      <td>1</td>\n      <td>4.61</td>\n    </tr>\n    <tr>\n      <th>50</th>\n      <td>Kodiak</td>\n      <td>US</td>\n      <td>2021-01-27 12:21:42</td>\n      <td>57.7900</td>\n      <td>-152.4072</td>\n      <td>28.40</td>\n      <td>74</td>\n      <td>1</td>\n      <td>3.44</td>\n    </tr>\n    <tr>\n      <th>389</th>\n      <td>Lakeway</td>\n      <td>US</td>\n      <td>2021-01-27 12:20:27</td>\n      <td>30.3638</td>\n      <td>-97.9796</td>\n      <td>48.00</td>\n      <td>70</td>\n      <td>75</td>\n      <td>5.75</td>\n    </tr>\n    <tr>\n      <th>495</th>\n      <td>Lindsay</td>\n      <td>US</td>\n      <td>2021-01-27 12:19:51</td>\n      <td>36.2030</td>\n      <td>-119.0882</td>\n      <td>46.99</td>\n      <td>76</td>\n      <td>90</td>\n      <td>6.91</td>\n    </tr>\n    <tr>\n      <th>173</th>\n      <td>Lompoc</td>\n      <td>US</td>\n      <td>2021-01-27 12:17:28</td>\n      <td>34.6391</td>\n      <td>-120.4579</td>\n      <td>50.00</td>\n      <td>87</td>\n      <td>90</td>\n      <td>13.80</td>\n    </tr>\n    <tr>\n      <th>207</th>\n      <td>Mayo</td>\n      <td>US</td>\n      <td>2021-01-27 12:22:13</td>\n      <td>38.8876</td>\n      <td>-76.5119</td>\n      <td>39.99</td>\n      <td>93</td>\n      <td>90</td>\n      <td>6.91</td>\n    </tr>\n    <tr>\n      <th>195</th>\n      <td>Nantucket</td>\n      <td>US</td>\n      <td>2021-01-27 12:17:57</td>\n      <td>41.2835</td>\n      <td>-70.0995</td>\n      <td>35.01</td>\n      <td>100</td>\n      <td>90</td>\n      <td>5.75</td>\n    </tr>\n    <tr>\n      <th>43</th>\n      <td>Nome</td>\n      <td>US</td>\n      <td>2021-01-27 12:21:41</td>\n      <td>64.5011</td>\n      <td>-165.4064</td>\n      <td>6.80</td>\n      <td>85</td>\n      <td>90</td>\n      <td>9.22</td>\n    </tr>\n    <tr>\n      <th>554</th>\n      <td>Ocala</td>\n      <td>US</td>\n      <td>2021-01-27 12:22:22</td>\n      <td>29.1872</td>\n      <td>-82.1401</td>\n      <td>59.00</td>\n      <td>100</td>\n      <td>75</td>\n      <td>5.01</td>\n    </tr>\n    <tr>\n      <th>381</th>\n      <td>Pacific Grove</td>\n      <td>US</td>\n      <td>2021-01-27 12:21:06</td>\n      <td>36.6177</td>\n      <td>-121.9166</td>\n      <td>51.80</td>\n      <td>87</td>\n      <td>90</td>\n      <td>10.36</td>\n    </tr>\n    <tr>\n      <th>201</th>\n      <td>Palmer</td>\n      <td>US</td>\n      <td>2021-01-27 12:19:03</td>\n      <td>42.1584</td>\n      <td>-72.3287</td>\n      <td>28.00</td>\n      <td>94</td>\n      <td>98</td>\n      <td>3.60</td>\n    </tr>\n    <tr>\n      <th>558</th>\n      <td>Parsons</td>\n      <td>US</td>\n      <td>2021-01-27 12:23:19</td>\n      <td>37.3403</td>\n      <td>-95.2611</td>\n      <td>28.40</td>\n      <td>86</td>\n      <td>90</td>\n      <td>6.91</td>\n    </tr>\n    <tr>\n      <th>320</th>\n      <td>Payson</td>\n      <td>US</td>\n      <td>2021-01-27 12:22:36</td>\n      <td>40.0444</td>\n      <td>-111.7321</td>\n      <td>24.80</td>\n      <td>74</td>\n      <td>20</td>\n      <td>12.66</td>\n    </tr>\n    <tr>\n      <th>450</th>\n      <td>Portland</td>\n      <td>US</td>\n      <td>2021-01-27 12:20:25</td>\n      <td>45.5234</td>\n      <td>-122.6762</td>\n      <td>37.99</td>\n      <td>93</td>\n      <td>90</td>\n      <td>3.51</td>\n    </tr>\n    <tr>\n      <th>446</th>\n      <td>Powell</td>\n      <td>US</td>\n      <td>2021-01-27 12:23:00</td>\n      <td>40.1578</td>\n      <td>-83.0752</td>\n      <td>30.99</td>\n      <td>86</td>\n      <td>90</td>\n      <td>6.91</td>\n    </tr>\n    <tr>\n      <th>405</th>\n      <td>Rincon</td>\n      <td>US</td>\n      <td>2021-01-27 12:22:52</td>\n      <td>32.2960</td>\n      <td>-81.2354</td>\n      <td>60.80</td>\n      <td>82</td>\n      <td>90</td>\n      <td>19.57</td>\n    </tr>\n    <tr>\n      <th>501</th>\n      <td>Saint Anthony</td>\n      <td>US</td>\n      <td>2021-01-27 12:23:10</td>\n      <td>45.0205</td>\n      <td>-93.2180</td>\n      <td>10.40</td>\n      <td>56</td>\n      <td>90</td>\n      <td>6.91</td>\n    </tr>\n    <tr>\n      <th>178</th>\n      <td>Saint George</td>\n      <td>US</td>\n      <td>2021-01-27 12:21:17</td>\n      <td>37.1041</td>\n      <td>-113.5841</td>\n      <td>36.00</td>\n      <td>64</td>\n      <td>90</td>\n      <td>6.91</td>\n    </tr>\n    <tr>\n      <th>465</th>\n      <td>Saint Joseph</td>\n      <td>US</td>\n      <td>2021-01-27 12:18:20</td>\n      <td>39.7686</td>\n      <td>-94.8466</td>\n      <td>21.00</td>\n      <td>93</td>\n      <td>90</td>\n      <td>8.05</td>\n    </tr>\n    <tr>\n      <th>473</th>\n      <td>San Jose</td>\n      <td>US</td>\n      <td>2021-01-27 12:23:04</td>\n      <td>37.3394</td>\n      <td>-121.8950</td>\n      <td>48.99</td>\n      <td>81</td>\n      <td>75</td>\n      <td>16.11</td>\n    </tr>\n    <tr>\n      <th>190</th>\n      <td>San Patricio</td>\n      <td>US</td>\n      <td>2021-01-27 12:22:09</td>\n      <td>28.0170</td>\n      <td>-97.5169</td>\n      <td>57.00</td>\n      <td>67</td>\n      <td>90</td>\n      <td>21.85</td>\n    </tr>\n    <tr>\n      <th>264</th>\n      <td>San Ramon</td>\n      <td>US</td>\n      <td>2021-01-27 12:18:15</td>\n      <td>37.7799</td>\n      <td>-121.9780</td>\n      <td>48.20</td>\n      <td>87</td>\n      <td>90</td>\n      <td>5.91</td>\n    </tr>\n    <tr>\n      <th>157</th>\n      <td>Shreveport</td>\n      <td>US</td>\n      <td>2021-01-27 12:20:32</td>\n      <td>32.5251</td>\n      <td>-93.7502</td>\n      <td>48.20</td>\n      <td>87</td>\n      <td>20</td>\n      <td>10.36</td>\n    </tr>\n    <tr>\n      <th>477</th>\n      <td>Sitka</td>\n      <td>US</td>\n      <td>2021-01-27 12:23:05</td>\n      <td>57.0531</td>\n      <td>-135.3300</td>\n      <td>26.60</td>\n      <td>43</td>\n      <td>1</td>\n      <td>9.17</td>\n    </tr>\n    <tr>\n      <th>137</th>\n      <td>Springdale</td>\n      <td>US</td>\n      <td>2021-01-27 12:19:17</td>\n      <td>36.1867</td>\n      <td>-94.1288</td>\n      <td>33.01</td>\n      <td>100</td>\n      <td>90</td>\n      <td>11.50</td>\n    </tr>\n    <tr>\n      <th>241</th>\n      <td>Staunton</td>\n      <td>US</td>\n      <td>2021-01-27 12:22:19</td>\n      <td>38.1496</td>\n      <td>-79.0717</td>\n      <td>37.40</td>\n      <td>80</td>\n      <td>1</td>\n      <td>5.08</td>\n    </tr>\n    <tr>\n      <th>462</th>\n      <td>Superior</td>\n      <td>US</td>\n      <td>2021-01-27 12:20:03</td>\n      <td>46.7208</td>\n      <td>-92.1041</td>\n      <td>-2.99</td>\n      <td>84</td>\n      <td>1</td>\n      <td>3.44</td>\n    </tr>\n    <tr>\n      <th>125</th>\n      <td>Tallahassee</td>\n      <td>US</td>\n      <td>2021-01-27 12:21:22</td>\n      <td>30.4383</td>\n      <td>-84.2807</td>\n      <td>69.80</td>\n      <td>100</td>\n      <td>90</td>\n      <td>11.50</td>\n    </tr>\n    <tr>\n      <th>346</th>\n      <td>Tarpon Springs</td>\n      <td>US</td>\n      <td>2021-01-27 12:22:41</td>\n      <td>28.1461</td>\n      <td>-82.7568</td>\n      <td>68.00</td>\n      <td>94</td>\n      <td>0</td>\n      <td>10.36</td>\n    </tr>\n    <tr>\n      <th>410</th>\n      <td>West Wendover</td>\n      <td>US</td>\n      <td>2021-01-27 12:22:53</td>\n      <td>40.7391</td>\n      <td>-114.0733</td>\n      <td>23.00</td>\n      <td>80</td>\n      <td>90</td>\n      <td>10.36</td>\n    </tr>\n    <tr>\n      <th>364</th>\n      <td>Westport</td>\n      <td>US</td>\n      <td>2021-01-27 12:22:44</td>\n      <td>41.1415</td>\n      <td>-73.3579</td>\n      <td>32.00</td>\n      <td>86</td>\n      <td>90</td>\n      <td>5.75</td>\n    </tr>\n    <tr>\n      <th>208</th>\n      <td>Worthington</td>\n      <td>US</td>\n      <td>2021-01-27 12:22:13</td>\n      <td>40.0931</td>\n      <td>-83.0180</td>\n      <td>30.99</td>\n      <td>86</td>\n      <td>90</td>\n      <td>6.91</td>\n    </tr>\n  </tbody>\n</table>\n</div>"
     },
     "metadata": {},
     "execution_count": 33
    }
   ],
   "source": [
    "city_weather_df.loc[city_weather_df['Country'] == 'US'].sort_values(by='City')"
   ]
  },
  {
   "cell_type": "code",
   "execution_count": 34,
   "metadata": {},
   "outputs": [
    {
     "output_type": "execute_result",
     "data": {
      "text/plain": [
       "        City Country                 Date      Lat      Long  Max Temp  \\\n",
       "0  Grindavik      IS  2021-01-27 12:21:32  63.8424  -22.4338     30.20   \n",
       "1     Trairi      BR  2021-01-27 12:21:32  -3.2778  -39.2689     84.49   \n",
       "2    Kencong      ID  2021-01-27 12:21:33  -8.2833  113.3667     76.98   \n",
       "3  Sokyryany      UA  2021-01-27 12:21:27  48.4475   27.4168     32.00   \n",
       "4   Cherskiy      RU  2021-01-27 12:21:33  68.7500  161.3000    -26.61   \n",
       "\n",
       "   Humidity  Cloudiness  Wind Speed  \n",
       "0        55          90       26.46  \n",
       "1        63          66       10.80  \n",
       "2        85          93        3.36  \n",
       "3        80         100        8.01  \n",
       "4        83         100        2.46  "
      ],
      "text/html": "<div>\n<style scoped>\n    .dataframe tbody tr th:only-of-type {\n        vertical-align: middle;\n    }\n\n    .dataframe tbody tr th {\n        vertical-align: top;\n    }\n\n    .dataframe thead th {\n        text-align: right;\n    }\n</style>\n<table border=\"1\" class=\"dataframe\">\n  <thead>\n    <tr style=\"text-align: right;\">\n      <th></th>\n      <th>City</th>\n      <th>Country</th>\n      <th>Date</th>\n      <th>Lat</th>\n      <th>Long</th>\n      <th>Max Temp</th>\n      <th>Humidity</th>\n      <th>Cloudiness</th>\n      <th>Wind Speed</th>\n    </tr>\n  </thead>\n  <tbody>\n    <tr>\n      <th>0</th>\n      <td>Grindavik</td>\n      <td>IS</td>\n      <td>2021-01-27 12:21:32</td>\n      <td>63.8424</td>\n      <td>-22.4338</td>\n      <td>30.20</td>\n      <td>55</td>\n      <td>90</td>\n      <td>26.46</td>\n    </tr>\n    <tr>\n      <th>1</th>\n      <td>Trairi</td>\n      <td>BR</td>\n      <td>2021-01-27 12:21:32</td>\n      <td>-3.2778</td>\n      <td>-39.2689</td>\n      <td>84.49</td>\n      <td>63</td>\n      <td>66</td>\n      <td>10.80</td>\n    </tr>\n    <tr>\n      <th>2</th>\n      <td>Kencong</td>\n      <td>ID</td>\n      <td>2021-01-27 12:21:33</td>\n      <td>-8.2833</td>\n      <td>113.3667</td>\n      <td>76.98</td>\n      <td>85</td>\n      <td>93</td>\n      <td>3.36</td>\n    </tr>\n    <tr>\n      <th>3</th>\n      <td>Sokyryany</td>\n      <td>UA</td>\n      <td>2021-01-27 12:21:27</td>\n      <td>48.4475</td>\n      <td>27.4168</td>\n      <td>32.00</td>\n      <td>80</td>\n      <td>100</td>\n      <td>8.01</td>\n    </tr>\n    <tr>\n      <th>4</th>\n      <td>Cherskiy</td>\n      <td>RU</td>\n      <td>2021-01-27 12:21:33</td>\n      <td>68.7500</td>\n      <td>161.3000</td>\n      <td>-26.61</td>\n      <td>83</td>\n      <td>100</td>\n      <td>2.46</td>\n    </tr>\n  </tbody>\n</table>\n</div>"
     },
     "metadata": {},
     "execution_count": 34
    }
   ],
   "source": [
    "city_weather_df.head()"
   ]
  },
  {
   "cell_type": "code",
   "execution_count": 35,
   "metadata": {},
   "outputs": [],
   "source": [
    "output_data_file = 'weather_data/cities.csv'"
   ]
  },
  {
   "cell_type": "code",
   "execution_count": 36,
   "metadata": {},
   "outputs": [],
   "source": [
    "city_weather_df.to_csv(output_data_file)"
   ]
  },
  {
   "cell_type": "code",
   "execution_count": null,
   "metadata": {},
   "outputs": [],
   "source": []
  }
 ],
 "metadata": {
  "kernelspec": {
   "display_name": "PythonData",
   "language": "python",
   "name": "pythondata"
  },
  "language_info": {
   "codemirror_mode": {
    "name": "ipython",
    "version": 3
   },
   "file_extension": ".py",
   "mimetype": "text/x-python",
   "name": "python",
   "nbconvert_exporter": "python",
   "pygments_lexer": "ipython3",
   "version": "3.7.9-final"
  }
 },
 "nbformat": 4,
 "nbformat_minor": 2
}