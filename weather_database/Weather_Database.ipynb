{
 "metadata": {
  "language_info": {
   "codemirror_mode": {
    "name": "ipython",
    "version": 3
   },
   "file_extension": ".py",
   "mimetype": "text/x-python",
   "name": "python",
   "nbconvert_exporter": "python",
   "pygments_lexer": "ipython3",
   "version": "3.7.9-final"
  },
  "orig_nbformat": 2,
  "kernelspec": {
   "name": "pythondata",
   "display_name": "PythonData",
   "language": "python"
  }
 },
 "nbformat": 4,
 "nbformat_minor": 2,
 "cells": [
  {
   "cell_type": "code",
   "execution_count": 15,
   "metadata": {},
   "outputs": [],
   "source": [
    "# Import dependencies\n",
    "import numpy as np\n",
    "import pandas as pd\n",
    "import gmaps\n",
    "import requests\n",
    "from config import g_key\n",
    "from config import weather_api_key\n",
    "import matplotlib.pyplot as plt\n",
    "import os\n",
    "from citipy import citipy\n",
    "import json\n",
    "from datetime import datetime\n",
    "import time"
   ]
  },
  {
   "cell_type": "code",
   "execution_count": 3,
   "metadata": {},
   "outputs": [],
   "source": [
    "# Generate random coordinates\n",
    "random_lats = np.random.uniform(-90,90,2000)\n",
    "random_longs = np.random.uniform(-180,180,2000)\n",
    "lat_longs = zip(random_lats, random_longs)\n",
    "coordinates = list(lat_longs)"
   ]
  },
  {
   "cell_type": "code",
   "execution_count": 9,
   "metadata": {},
   "outputs": [
    {
     "output_type": "stream",
     "name": "stdout",
     "text": [
      "Returned 754 random cities accross the world\n"
     ]
    }
   ],
   "source": [
    "# Create list of cities nearest to random coordinates\n",
    "cities = []\n",
    "for coordinate in coordinates:\n",
    "    city = citipy.nearest_city(coordinate[0],coordinate[1]).city_name\n",
    "    if city not in cities:\n",
    "        cities.append(city)\n",
    "print(f\"Returned {len(cities)} random cities accross the world\")\n"
   ]
  },
  {
   "cell_type": "code",
   "execution_count": 25,
   "metadata": {},
   "outputs": [
    {
     "output_type": "stream",
     "name": "stdout",
     "text": [
      "City search complete. 693 cities were found, 61 cities were not found.\nSearch took 134 seconds.\n"
     ]
    }
   ],
   "source": [
    "# Make dataframe containing weather data for each city in list 'cities'\n",
    "start_time = time.time()\n",
    "# Define URL\n",
    "base_url = 'http://api.openweathermap.org/data/2.5/weather?q='\n",
    "units = 'Imperial'\n",
    "\n",
    "# Make variables to count the number of good and bad requests.get() pulls from OpenWeatherMap\n",
    "cities_found = 0\n",
    "cities_not_found = 0\n",
    "\n",
    "weather_list = []\n",
    "\n",
    "for i in range(0,len(cities)):\n",
    "    city = cities[i]\n",
    "    try:\n",
    "        city_weather = requests.get(f'{base_url}{city}&units={units}&APPID={weather_api_key}').json()\n",
    "        city_lat = city_weather['coord']['lat']\n",
    "        city_long = city_weather['coord']['lon']\n",
    "        city_max_temp = city_weather['main']['temp_max']\n",
    "        city_humidity = city_weather['main']['humidity']\n",
    "        city_clouds = city_weather['clouds']['all']\n",
    "        city_wind = city_weather['wind']['speed']\n",
    "        city_desc = city_weather['weather'][0]['description']\n",
    "        weather_list.append({\n",
    "            'City':city.title(),\n",
    "            'Country':city_weather['sys']['country'],\n",
    "            'Lat':city_lat,\n",
    "            'Long':city_long,\n",
    "            'Max Temp':city_max_temp,\n",
    "            'Humidity':city_humidity,\n",
    "            'Cloudiness':city_clouds,\n",
    "            'Wind Speed':city_wind,\n",
    "            'Current Weather':city_desc})\n",
    "        cities_found += 1\n",
    "    except KeyError:\n",
    "        cities_not_found += 1\n",
    "\n",
    "end_time = time.time()\n",
    "print(f'City search complete. {cities_found} cities were found, {cities_not_found} cities were not found.\\nSearch took {end_time - start_time:.0f} seconds.')"
   ]
  },
  {
   "cell_type": "code",
   "execution_count": 34,
   "metadata": {},
   "outputs": [],
   "source": [
    "# Cast list of dictionaries to dataframe\n",
    "\n",
    "city_data_df = pd.DataFrame(weather_list)"
   ]
  },
  {
   "cell_type": "code",
   "execution_count": 35,
   "metadata": {},
   "outputs": [
    {
     "output_type": "execute_result",
     "data": {
      "text/plain": [
       "                    City Country      Lat      Long  Max Temp  Humidity  \\\n",
       "0  Los Llanos De Aridane      ES  28.6585  -17.9182      66.2        72   \n",
       "1                Ushuaia      AR -54.8000  -68.3000      51.8        62   \n",
       "2                  Marin      US  38.0666 -122.7344      50.0        93   \n",
       "3                Tautira      PF -17.7333 -149.1500      78.8        69   \n",
       "4                Mataura      NZ -46.1927  168.8643      48.0        80   \n",
       "\n",
       "   Cloudiness  Wind Speed   Current Weather  \n",
       "0          75       16.11     broken clouds  \n",
       "1          20       26.46        few clouds  \n",
       "2          90        4.65   overcast clouds  \n",
       "3          75        5.75        light rain  \n",
       "4          50        8.01  scattered clouds  "
      ],
      "text/html": "<div>\n<style scoped>\n    .dataframe tbody tr th:only-of-type {\n        vertical-align: middle;\n    }\n\n    .dataframe tbody tr th {\n        vertical-align: top;\n    }\n\n    .dataframe thead th {\n        text-align: right;\n    }\n</style>\n<table border=\"1\" class=\"dataframe\">\n  <thead>\n    <tr style=\"text-align: right;\">\n      <th></th>\n      <th>City</th>\n      <th>Country</th>\n      <th>Lat</th>\n      <th>Long</th>\n      <th>Max Temp</th>\n      <th>Humidity</th>\n      <th>Cloudiness</th>\n      <th>Wind Speed</th>\n      <th>Current Weather</th>\n    </tr>\n  </thead>\n  <tbody>\n    <tr>\n      <th>0</th>\n      <td>Los Llanos De Aridane</td>\n      <td>ES</td>\n      <td>28.6585</td>\n      <td>-17.9182</td>\n      <td>66.2</td>\n      <td>72</td>\n      <td>75</td>\n      <td>16.11</td>\n      <td>broken clouds</td>\n    </tr>\n    <tr>\n      <th>1</th>\n      <td>Ushuaia</td>\n      <td>AR</td>\n      <td>-54.8000</td>\n      <td>-68.3000</td>\n      <td>51.8</td>\n      <td>62</td>\n      <td>20</td>\n      <td>26.46</td>\n      <td>few clouds</td>\n    </tr>\n    <tr>\n      <th>2</th>\n      <td>Marin</td>\n      <td>US</td>\n      <td>38.0666</td>\n      <td>-122.7344</td>\n      <td>50.0</td>\n      <td>93</td>\n      <td>90</td>\n      <td>4.65</td>\n      <td>overcast clouds</td>\n    </tr>\n    <tr>\n      <th>3</th>\n      <td>Tautira</td>\n      <td>PF</td>\n      <td>-17.7333</td>\n      <td>-149.1500</td>\n      <td>78.8</td>\n      <td>69</td>\n      <td>75</td>\n      <td>5.75</td>\n      <td>light rain</td>\n    </tr>\n    <tr>\n      <th>4</th>\n      <td>Mataura</td>\n      <td>NZ</td>\n      <td>-46.1927</td>\n      <td>168.8643</td>\n      <td>48.0</td>\n      <td>80</td>\n      <td>50</td>\n      <td>8.01</td>\n      <td>scattered clouds</td>\n    </tr>\n  </tbody>\n</table>\n</div>"
     },
     "metadata": {},
     "execution_count": 35
    }
   ],
   "source": [
    "# Reorder columns\n",
    "\n",
    "city_data_df = city_data_df[['City','Country','Lat','Long','Max Temp','Humidity','Cloudiness','Wind Speed','Current Weather']]\n",
    "city_data_df.head()"
   ]
  },
  {
   "cell_type": "code",
   "execution_count": 30,
   "metadata": {},
   "outputs": [],
   "source": [
    "# Drop any rows with missing data\n",
    "\n",
    "city_data_df = city_data_df.dropna()"
   ]
  },
  {
   "cell_type": "code",
   "execution_count": 36,
   "metadata": {},
   "outputs": [],
   "source": [
    "# Write the dataframe to a csv in the current directory\n",
    "\n",
    "city_data_df.to_csv('./WeatherPy_Database.csv')"
   ]
  },
  {
   "cell_type": "code",
   "execution_count": null,
   "metadata": {},
   "outputs": [],
   "source": []
  }
 ]
}